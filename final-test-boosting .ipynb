{
 "cells": [
  {
   "cell_type": "code",
   "execution_count": 62,
   "metadata": {},
   "outputs": [],
   "source": [
    "import warnings \n",
    "import numpy as np\n",
    "import pandas as pd\n",
    "import matplotlib.pyplot as plt\n",
    "import seaborn as sns\n",
    "from scipy.stats.mstats import winsorize\n",
    "pd.set_option('display.max_columns', None)   #hiển thị tất cả các cột dữ liệu\n",
    "%matplotlib inline\n",
    "warnings.filterwarnings('ignore')\n",
    "sns.set_context('notebook')\n",
    "sns.set_style('whitegrid')\n",
    "sns.set_palette('Blues_r')"
   ]
  },
  {
   "cell_type": "code",
   "execution_count": 150,
   "metadata": {},
   "outputs": [
    {
     "name": "stdout",
     "output_type": "stream",
     "text": [
      "<class 'pandas.core.frame.DataFrame'>\n",
      "RangeIndex: 2128 entries, 0 to 2127\n",
      "Data columns (total 13 columns):\n",
      " #   Column        Non-Null Count  Dtype  \n",
      "---  ------        --------------  -----  \n",
      " 0   Id            2128 non-null   int64  \n",
      " 1   name          2128 non-null   object \n",
      " 2   year          2128 non-null   int64  \n",
      " 3   km_driven     2128 non-null   int64  \n",
      " 4   fuel          2128 non-null   object \n",
      " 5   seller_type   2128 non-null   object \n",
      " 6   transmission  2128 non-null   object \n",
      " 7   owner         2128 non-null   object \n",
      " 8   mileage       2066 non-null   object \n",
      " 9   engine        2066 non-null   object \n",
      " 10  max_power     2067 non-null   object \n",
      " 11  torque        2066 non-null   object \n",
      " 12  seats         2066 non-null   float64\n",
      "dtypes: float64(1), int64(3), object(9)\n",
      "memory usage: 216.2+ KB\n"
     ]
    }
   ],
   "source": [
    "train = pd.read_csv('train.csv',sep=\";\")\n",
    "test= pd.read_csv('test.csv',sep=\";\")\n",
    "test.info()"
   ]
  },
  {
   "cell_type": "code",
   "execution_count": 64,
   "metadata": {},
   "outputs": [
    {
     "data": {
      "text/html": [
       "<div>\n",
       "<style scoped>\n",
       "    .dataframe tbody tr th:only-of-type {\n",
       "        vertical-align: middle;\n",
       "    }\n",
       "\n",
       "    .dataframe tbody tr th {\n",
       "        vertical-align: top;\n",
       "    }\n",
       "\n",
       "    .dataframe thead th {\n",
       "        text-align: right;\n",
       "    }\n",
       "</style>\n",
       "<table border=\"1\" class=\"dataframe\">\n",
       "  <thead>\n",
       "    <tr style=\"text-align: right;\">\n",
       "      <th></th>\n",
       "      <th>name</th>\n",
       "      <th>year</th>\n",
       "      <th>selling_price</th>\n",
       "      <th>km_driven</th>\n",
       "      <th>fuel</th>\n",
       "      <th>seller_type</th>\n",
       "      <th>transmission</th>\n",
       "      <th>owner</th>\n",
       "      <th>mileage</th>\n",
       "      <th>engine</th>\n",
       "      <th>max_power</th>\n",
       "      <th>torque</th>\n",
       "      <th>seats</th>\n",
       "    </tr>\n",
       "  </thead>\n",
       "  <tbody>\n",
       "    <tr>\n",
       "      <th>0</th>\n",
       "      <td>Tata Nexon 1.5 Revotorq XM</td>\n",
       "      <td>2018</td>\n",
       "      <td>850000</td>\n",
       "      <td>9500</td>\n",
       "      <td>Diesel</td>\n",
       "      <td>Individual</td>\n",
       "      <td>Manual</td>\n",
       "      <td>First Owner</td>\n",
       "      <td>21.5 kmpl</td>\n",
       "      <td>1497 CC</td>\n",
       "      <td>108.5 bhp</td>\n",
       "      <td>260Nm@ 1500-2750rpm</td>\n",
       "      <td>5.0</td>\n",
       "    </tr>\n",
       "    <tr>\n",
       "      <th>1</th>\n",
       "      <td>Hyundai i20 Active SX Diesel</td>\n",
       "      <td>2018</td>\n",
       "      <td>750000</td>\n",
       "      <td>30000</td>\n",
       "      <td>Diesel</td>\n",
       "      <td>Individual</td>\n",
       "      <td>Manual</td>\n",
       "      <td>First Owner</td>\n",
       "      <td>21.19 kmpl</td>\n",
       "      <td>1396 CC</td>\n",
       "      <td>88.76 bhp</td>\n",
       "      <td>219.66nm@ 1500-2750rpm</td>\n",
       "      <td>5.0</td>\n",
       "    </tr>\n",
       "    <tr>\n",
       "      <th>2</th>\n",
       "      <td>Toyota Fortuner 4x2 AT</td>\n",
       "      <td>2015</td>\n",
       "      <td>1500000</td>\n",
       "      <td>80000</td>\n",
       "      <td>Diesel</td>\n",
       "      <td>Individual</td>\n",
       "      <td>Automatic</td>\n",
       "      <td>Second Owner</td>\n",
       "      <td>12.55 kmpl</td>\n",
       "      <td>2982 CC</td>\n",
       "      <td>168.5 bhp</td>\n",
       "      <td>360Nm@ 1400-3200rpm</td>\n",
       "      <td>7.0</td>\n",
       "    </tr>\n",
       "    <tr>\n",
       "      <th>3</th>\n",
       "      <td>Hyundai Verna 1.6 VTVT SX</td>\n",
       "      <td>2015</td>\n",
       "      <td>795000</td>\n",
       "      <td>35000</td>\n",
       "      <td>Petrol</td>\n",
       "      <td>Individual</td>\n",
       "      <td>Manual</td>\n",
       "      <td>First Owner</td>\n",
       "      <td>17.01 kmpl</td>\n",
       "      <td>1591 CC</td>\n",
       "      <td>121.3 bhp</td>\n",
       "      <td>154.9Nm@ 4200rpm</td>\n",
       "      <td>5.0</td>\n",
       "    </tr>\n",
       "    <tr>\n",
       "      <th>4</th>\n",
       "      <td>Volvo XC40 D4 Inscription BSIV</td>\n",
       "      <td>2019</td>\n",
       "      <td>3800000</td>\n",
       "      <td>20000</td>\n",
       "      <td>Diesel</td>\n",
       "      <td>Individual</td>\n",
       "      <td>Automatic</td>\n",
       "      <td>First Owner</td>\n",
       "      <td>18.0 kmpl</td>\n",
       "      <td>1969 CC</td>\n",
       "      <td>190 bhp</td>\n",
       "      <td>400Nm</td>\n",
       "      <td>5.0</td>\n",
       "    </tr>\n",
       "    <tr>\n",
       "      <th>5</th>\n",
       "      <td>Fiat Avventura Power Up 1.3 Emotion</td>\n",
       "      <td>2015</td>\n",
       "      <td>500000</td>\n",
       "      <td>96500</td>\n",
       "      <td>Diesel</td>\n",
       "      <td>Individual</td>\n",
       "      <td>Manual</td>\n",
       "      <td>First Owner</td>\n",
       "      <td>20.5 kmpl</td>\n",
       "      <td>1248 CC</td>\n",
       "      <td>91.72 bhp</td>\n",
       "      <td>209Nm@ 2000rpm</td>\n",
       "      <td>5.0</td>\n",
       "    </tr>\n",
       "    <tr>\n",
       "      <th>6</th>\n",
       "      <td>Hyundai i10 Magna 1.2 iTech SE</td>\n",
       "      <td>2013</td>\n",
       "      <td>325000</td>\n",
       "      <td>70000</td>\n",
       "      <td>Petrol</td>\n",
       "      <td>Individual</td>\n",
       "      <td>Manual</td>\n",
       "      <td>First Owner</td>\n",
       "      <td>20.36 kmpl</td>\n",
       "      <td>1197 CC</td>\n",
       "      <td>78.9 bhp</td>\n",
       "      <td>111.7Nm@ 4000rpm</td>\n",
       "      <td>5.0</td>\n",
       "    </tr>\n",
       "    <tr>\n",
       "      <th>7</th>\n",
       "      <td>Hyundai EON D Lite Plus</td>\n",
       "      <td>2017</td>\n",
       "      <td>270000</td>\n",
       "      <td>50000</td>\n",
       "      <td>Petrol</td>\n",
       "      <td>Individual</td>\n",
       "      <td>Manual</td>\n",
       "      <td>First Owner</td>\n",
       "      <td>21.1 kmpl</td>\n",
       "      <td>814 CC</td>\n",
       "      <td>55.2 bhp</td>\n",
       "      <td>74.5Nm@ 4000rpm</td>\n",
       "      <td>5.0</td>\n",
       "    </tr>\n",
       "    <tr>\n",
       "      <th>8</th>\n",
       "      <td>Mahindra Verito 1.5 D4 BSIII</td>\n",
       "      <td>2011</td>\n",
       "      <td>174000</td>\n",
       "      <td>100000</td>\n",
       "      <td>Diesel</td>\n",
       "      <td>Individual</td>\n",
       "      <td>Manual</td>\n",
       "      <td>Second Owner</td>\n",
       "      <td>21.0 kmpl</td>\n",
       "      <td>1461 CC</td>\n",
       "      <td>64.1 bhp</td>\n",
       "      <td>160Nm@ 2000rpm</td>\n",
       "      <td>5.0</td>\n",
       "    </tr>\n",
       "    <tr>\n",
       "      <th>9</th>\n",
       "      <td>Hyundai i10 Magna 1.2 iTech SE</td>\n",
       "      <td>2012</td>\n",
       "      <td>270000</td>\n",
       "      <td>56000</td>\n",
       "      <td>Petrol</td>\n",
       "      <td>Individual</td>\n",
       "      <td>Manual</td>\n",
       "      <td>First Owner</td>\n",
       "      <td>20.36 kmpl</td>\n",
       "      <td>1197 CC</td>\n",
       "      <td>78.9 bhp</td>\n",
       "      <td>111.7Nm@ 4000rpm</td>\n",
       "      <td>5.0</td>\n",
       "    </tr>\n",
       "  </tbody>\n",
       "</table>\n",
       "</div>"
      ],
      "text/plain": [
       "                                  name  year  selling_price  km_driven  \\\n",
       "0           Tata Nexon 1.5 Revotorq XM  2018         850000       9500   \n",
       "1         Hyundai i20 Active SX Diesel  2018         750000      30000   \n",
       "2               Toyota Fortuner 4x2 AT  2015        1500000      80000   \n",
       "3            Hyundai Verna 1.6 VTVT SX  2015         795000      35000   \n",
       "4       Volvo XC40 D4 Inscription BSIV  2019        3800000      20000   \n",
       "5  Fiat Avventura Power Up 1.3 Emotion  2015         500000      96500   \n",
       "6       Hyundai i10 Magna 1.2 iTech SE  2013         325000      70000   \n",
       "7              Hyundai EON D Lite Plus  2017         270000      50000   \n",
       "8         Mahindra Verito 1.5 D4 BSIII  2011         174000     100000   \n",
       "9       Hyundai i10 Magna 1.2 iTech SE  2012         270000      56000   \n",
       "\n",
       "     fuel seller_type transmission         owner     mileage   engine  \\\n",
       "0  Diesel  Individual       Manual   First Owner   21.5 kmpl  1497 CC   \n",
       "1  Diesel  Individual       Manual   First Owner  21.19 kmpl  1396 CC   \n",
       "2  Diesel  Individual    Automatic  Second Owner  12.55 kmpl  2982 CC   \n",
       "3  Petrol  Individual       Manual   First Owner  17.01 kmpl  1591 CC   \n",
       "4  Diesel  Individual    Automatic   First Owner   18.0 kmpl  1969 CC   \n",
       "5  Diesel  Individual       Manual   First Owner   20.5 kmpl  1248 CC   \n",
       "6  Petrol  Individual       Manual   First Owner  20.36 kmpl  1197 CC   \n",
       "7  Petrol  Individual       Manual   First Owner   21.1 kmpl   814 CC   \n",
       "8  Diesel  Individual       Manual  Second Owner   21.0 kmpl  1461 CC   \n",
       "9  Petrol  Individual       Manual   First Owner  20.36 kmpl  1197 CC   \n",
       "\n",
       "   max_power                  torque  seats  \n",
       "0  108.5 bhp     260Nm@ 1500-2750rpm    5.0  \n",
       "1  88.76 bhp  219.66nm@ 1500-2750rpm    5.0  \n",
       "2  168.5 bhp     360Nm@ 1400-3200rpm    7.0  \n",
       "3  121.3 bhp        154.9Nm@ 4200rpm    5.0  \n",
       "4    190 bhp                   400Nm    5.0  \n",
       "5  91.72 bhp          209Nm@ 2000rpm    5.0  \n",
       "6   78.9 bhp        111.7Nm@ 4000rpm    5.0  \n",
       "7   55.2 bhp         74.5Nm@ 4000rpm    5.0  \n",
       "8   64.1 bhp          160Nm@ 2000rpm    5.0  \n",
       "9   78.9 bhp        111.7Nm@ 4000rpm    5.0  "
      ]
     },
     "execution_count": 64,
     "metadata": {},
     "output_type": "execute_result"
    }
   ],
   "source": [
    "train.head(10)"
   ]
  },
  {
   "cell_type": "code",
   "execution_count": 65,
   "metadata": {},
   "outputs": [
    {
     "name": "stdout",
     "output_type": "stream",
     "text": [
      "<class 'pandas.core.frame.DataFrame'>\n",
      "RangeIndex: 6000 entries, 0 to 5999\n",
      "Data columns (total 13 columns):\n",
      " #   Column         Non-Null Count  Dtype  \n",
      "---  ------         --------------  -----  \n",
      " 0   name           6000 non-null   object \n",
      " 1   year           6000 non-null   int64  \n",
      " 2   selling_price  6000 non-null   int64  \n",
      " 3   km_driven      6000 non-null   int64  \n",
      " 4   fuel           6000 non-null   object \n",
      " 5   seller_type    6000 non-null   object \n",
      " 6   transmission   6000 non-null   object \n",
      " 7   owner          6000 non-null   object \n",
      " 8   mileage        5841 non-null   object \n",
      " 9   engine         5841 non-null   object \n",
      " 10  max_power      5846 non-null   object \n",
      " 11  torque         5840 non-null   object \n",
      " 12  seats          5841 non-null   float64\n",
      "dtypes: float64(1), int64(3), object(9)\n",
      "memory usage: 609.5+ KB\n"
     ]
    }
   ],
   "source": [
    "train.info()"
   ]
  },
  {
   "cell_type": "code",
   "execution_count": 66,
   "metadata": {},
   "outputs": [
    {
     "data": {
      "text/plain": [
       "(6000, 13)"
      ]
     },
     "execution_count": 66,
     "metadata": {},
     "output_type": "execute_result"
    }
   ],
   "source": [
    "train.shape"
   ]
  },
  {
   "cell_type": "markdown",
   "metadata": {},
   "source": [
    "### check null"
   ]
  },
  {
   "cell_type": "code",
   "execution_count": 67,
   "metadata": {},
   "outputs": [
    {
     "data": {
      "text/plain": [
       "name               0\n",
       "year               0\n",
       "selling_price      0\n",
       "km_driven          0\n",
       "fuel               0\n",
       "seller_type        0\n",
       "transmission       0\n",
       "owner              0\n",
       "mileage          159\n",
       "engine           159\n",
       "max_power        154\n",
       "torque           160\n",
       "seats            159\n",
       "dtype: int64"
      ]
     },
     "execution_count": 67,
     "metadata": {},
     "output_type": "execute_result"
    }
   ],
   "source": [
    "train.isnull().sum()"
   ]
  },
  {
   "cell_type": "code",
   "execution_count": 68,
   "metadata": {},
   "outputs": [],
   "source": [
    "train=train.dropna(axis=0, how='any')"
   ]
  },
  {
   "cell_type": "markdown",
   "metadata": {},
   "source": [
    "## engine"
   ]
  },
  {
   "cell_type": "code",
   "execution_count": 69,
   "metadata": {
    "scrolled": false
   },
   "outputs": [],
   "source": [
    "train['engine'] = train['engine'].str.split().str[0]\n",
    "train['engine'] = train['engine'].astype(float)\n",
    "#train['engine'] = train['engine'].fillna(train['engine'].mean())\n",
    "\n",
    "test['engine'] = test['engine'].str.split().str[0]\n",
    "test['engine'] = test['engine'].astype(float)\n",
    "test['engine'] = test['engine'].fillna(train['engine'].mean())"
   ]
  },
  {
   "cell_type": "code",
   "execution_count": 70,
   "metadata": {},
   "outputs": [
    {
     "data": {
      "text/plain": [
       "<matplotlib.axes._subplots.AxesSubplot at 0x171314b05c8>"
      ]
     },
     "execution_count": 70,
     "metadata": {},
     "output_type": "execute_result"
    },
    {
     "data": {
      "image/png": "[encoded data removed]",
      "text/plain": [
       "<Figure size 432x288 with 1 Axes>"
      ]
     },
     "metadata": {},
     "output_type": "display_data"
    }
   ],
   "source": [
    "sns.distplot(train['engine'])"
   ]
  },
  {
   "cell_type": "code",
   "execution_count": 71,
   "metadata": {},
   "outputs": [
    {
     "data": {
      "text/plain": [
       "1248.0    735\n",
       "1197.0    611\n",
       "796.0     336\n",
       "998.0     322\n",
       "2179.0    302\n",
       "         ... \n",
       "2650.0      1\n",
       "2596.0      1\n",
       "1590.0      1\n",
       "1390.0      1\n",
       "1451.0      1\n",
       "Name: engine, Length: 119, dtype: int64"
      ]
     },
     "execution_count": 71,
     "metadata": {},
     "output_type": "execute_result"
    }
   ],
   "source": [
    "train['engine'].value_counts()"
   ]
  },
  {
   "cell_type": "markdown",
   "metadata": {},
   "source": [
    "## mileage"
   ]
  },
  {
   "cell_type": "code",
   "execution_count": 72,
   "metadata": {},
   "outputs": [],
   "source": [
    "def mileage_convert(x):\n",
    "    if type(x) == str:\n",
    "        if x.split()[-1] == 'km/kg':\n",
    "            return float(x.split()[0])*1.40\n",
    "        elif x.split()[-1] == 'kmpl':\n",
    "            return float(x.split()[0])\n",
    "    else:\n",
    "        return x\n",
    "    \n",
    "train['mileage'] = train['mileage'].apply(mileage_convert)\n",
    "#train['mileage'] = train['mileage'].fillna(train['mileage'].mean())\n",
    "\n",
    "test['mileage'] = test['mileage'].apply(mileage_convert)\n",
    "test['mileage'] = test['mileage'].fillna(test['mileage'].mean())\n"
   ]
  },
  {
   "cell_type": "code",
   "execution_count": 73,
   "metadata": {},
   "outputs": [
    {
     "data": {
      "text/plain": [
       "<matplotlib.axes._subplots.AxesSubplot at 0x171314c8bc8>"
      ]
     },
     "execution_count": 73,
     "metadata": {},
     "output_type": "execute_result"
    },
    {
     "data": {
      "image/png": "[encoded data removed]",
      "text/plain": [
       "<Figure size 432x288 with 1 Axes>"
      ]
     },
     "metadata": {},
     "output_type": "display_data"
    }
   ],
   "source": [
    "sns.distplot(train['mileage'])"
   ]
  },
  {
   "cell_type": "markdown",
   "metadata": {},
   "source": [
    "# km_driven"
   ]
  },
  {
   "cell_type": "code",
   "execution_count": 74,
   "metadata": {},
   "outputs": [
    {
     "data": {
      "text/plain": [
       "<matplotlib.axes._subplots.AxesSubplot at 0x17131587108>"
      ]
     },
     "execution_count": 74,
     "metadata": {},
     "output_type": "execute_result"
    },
    {
     "data": {
      "image/png": "[encoded data removed]",
      "text/plain": [
       "<Figure size 432x288 with 1 Axes>"
      ]
     },
     "metadata": {},
     "output_type": "display_data"
    }
   ],
   "source": [
    "sns.boxplot(train['km_driven'])"
   ]
  },
  {
   "cell_type": "markdown",
   "metadata": {},
   "source": [
    "# max_power"
   ]
  },
  {
   "cell_type": "code",
   "execution_count": 76,
   "metadata": {},
   "outputs": [
    {
     "data": {
      "text/plain": [
       "74 bhp       272\n",
       "81.80 bhp    159\n",
       "88.5 bhp     149\n",
       "67 bhp       123\n",
       "46.3 bhp     121\n",
       "            ... \n",
       "282 bhp        1\n",
       "144 bhp        1\n",
       " bhp           1\n",
       "53.26 bhp      1\n",
       "156 bhp        1\n",
       "Name: max_power, Length: 303, dtype: int64"
      ]
     },
     "execution_count": 76,
     "metadata": {},
     "output_type": "execute_result"
    }
   ],
   "source": [
    "train['max_power'].value_counts()"
   ]
  },
  {
   "cell_type": "code",
   "execution_count": 77,
   "metadata": {},
   "outputs": [],
   "source": [
    "train['max_power'] = train['max_power'].str.split().str[0]\n",
    "train['max_power'] = train['max_power'].str.replace(' bhp','0.0')\n",
    "train['max_power'] = pd.to_numeric(train['max_power'], errors='coerce')\n",
    "#train['max_power'].replace(0.0,np.nan,inplace=True)\n",
    "#train['max_power'].fillna(train['max_power'].median(),inplace=True)\n",
    "\n",
    "test['max_power'] = test['max_power'].str.split().str[0]\n",
    "test['max_power'] = pd.to_numeric(test['max_power'], errors='coerce')\n",
    "test['max_power'].replace(0.0,np.nan,inplace=True)\n",
    "test['max_power'].fillna(train['max_power'].median(),inplace=True)\n"
   ]
  },
  {
   "cell_type": "code",
   "execution_count": 78,
   "metadata": {},
   "outputs": [],
   "source": [
    "test['seats']=test['seats'].astype(float)\n",
    "test.seats = test.seats.fillna(5.0)"
   ]
  },
  {
   "cell_type": "code",
   "execution_count": 79,
   "metadata": {},
   "outputs": [
    {
     "name": "stdout",
     "output_type": "stream",
     "text": [
      "<class 'pandas.core.frame.DataFrame'>\n",
      "RangeIndex: 6000 entries, 0 to 5999\n",
      "Data columns (total 13 columns):\n",
      " #   Column         Non-Null Count  Dtype  \n",
      "---  ------         --------------  -----  \n",
      " 0   name           6000 non-null   object \n",
      " 1   year           6000 non-null   int64  \n",
      " 2   selling_price  6000 non-null   int64  \n",
      " 3   km_driven      6000 non-null   int64  \n",
      " 4   fuel           6000 non-null   object \n",
      " 5   seller_type    6000 non-null   object \n",
      " 6   transmission   6000 non-null   object \n",
      " 7   owner          6000 non-null   object \n",
      " 8   mileage        6000 non-null   float64\n",
      " 9   engine         6000 non-null   float64\n",
      " 10  max_power      6000 non-null   float64\n",
      " 11  torque         5840 non-null   object \n",
      " 12  seats          6000 non-null   float64\n",
      "dtypes: float64(4), int64(3), object(6)\n",
      "memory usage: 609.5+ KB\n"
     ]
    }
   ],
   "source": [
    "train.info()"
   ]
  },
  {
   "cell_type": "markdown",
   "metadata": {},
   "source": [
    "### check duplicate"
   ]
  },
  {
   "cell_type": "code",
   "execution_count": 80,
   "metadata": {},
   "outputs": [
    {
     "data": {
      "text/plain": [
       "756"
      ]
     },
     "execution_count": 80,
     "metadata": {},
     "output_type": "execute_result"
    }
   ],
   "source": [
    "train.duplicated().sum()"
   ]
  },
  {
   "cell_type": "code",
   "execution_count": 81,
   "metadata": {},
   "outputs": [
    {
     "data": {
      "text/html": [
       "<div>\n",
       "<style scoped>\n",
       "    .dataframe tbody tr th:only-of-type {\n",
       "        vertical-align: middle;\n",
       "    }\n",
       "\n",
       "    .dataframe tbody tr th {\n",
       "        vertical-align: top;\n",
       "    }\n",
       "\n",
       "    .dataframe thead th {\n",
       "        text-align: right;\n",
       "    }\n",
       "</style>\n",
       "<table border=\"1\" class=\"dataframe\">\n",
       "  <thead>\n",
       "    <tr style=\"text-align: right;\">\n",
       "      <th></th>\n",
       "      <th>name</th>\n",
       "      <th>year</th>\n",
       "      <th>selling_price</th>\n",
       "      <th>km_driven</th>\n",
       "      <th>fuel</th>\n",
       "      <th>seller_type</th>\n",
       "      <th>transmission</th>\n",
       "      <th>owner</th>\n",
       "      <th>mileage</th>\n",
       "      <th>engine</th>\n",
       "      <th>max_power</th>\n",
       "      <th>torque</th>\n",
       "      <th>seats</th>\n",
       "    </tr>\n",
       "  </thead>\n",
       "  <tbody>\n",
       "    <tr>\n",
       "      <th>70</th>\n",
       "      <td>BMW 6 Series GT 630d Luxury Line</td>\n",
       "      <td>2018</td>\n",
       "      <td>6000000</td>\n",
       "      <td>28156</td>\n",
       "      <td>Diesel</td>\n",
       "      <td>Dealer</td>\n",
       "      <td>Automatic</td>\n",
       "      <td>First Owner</td>\n",
       "      <td>17.09</td>\n",
       "      <td>2993.0</td>\n",
       "      <td>261.4</td>\n",
       "      <td>620Nm@ 2000-2500rpm</td>\n",
       "      <td>4.0</td>\n",
       "    </tr>\n",
       "    <tr>\n",
       "      <th>90</th>\n",
       "      <td>Maruti Baleno Alpha 1.3</td>\n",
       "      <td>2018</td>\n",
       "      <td>740000</td>\n",
       "      <td>38817</td>\n",
       "      <td>Diesel</td>\n",
       "      <td>Dealer</td>\n",
       "      <td>Manual</td>\n",
       "      <td>First Owner</td>\n",
       "      <td>27.39</td>\n",
       "      <td>1248.0</td>\n",
       "      <td>74.0</td>\n",
       "      <td>190Nm@ 2000rpm</td>\n",
       "      <td>5.0</td>\n",
       "    </tr>\n",
       "    <tr>\n",
       "      <th>98</th>\n",
       "      <td>Skoda Rapid 1.6 MPI AT Elegance</td>\n",
       "      <td>2016</td>\n",
       "      <td>645000</td>\n",
       "      <td>11000</td>\n",
       "      <td>Petrol</td>\n",
       "      <td>Dealer</td>\n",
       "      <td>Automatic</td>\n",
       "      <td>First Owner</td>\n",
       "      <td>14.30</td>\n",
       "      <td>1598.0</td>\n",
       "      <td>103.5</td>\n",
       "      <td>153Nm@ 3800rpm</td>\n",
       "      <td>5.0</td>\n",
       "    </tr>\n",
       "    <tr>\n",
       "      <th>111</th>\n",
       "      <td>Jaguar XF 2.0 Diesel Portfolio</td>\n",
       "      <td>2017</td>\n",
       "      <td>3200000</td>\n",
       "      <td>45000</td>\n",
       "      <td>Diesel</td>\n",
       "      <td>Dealer</td>\n",
       "      <td>Automatic</td>\n",
       "      <td>First Owner</td>\n",
       "      <td>19.33</td>\n",
       "      <td>1999.0</td>\n",
       "      <td>177.0</td>\n",
       "      <td>430Nm@ 1750-2500rpm</td>\n",
       "      <td>5.0</td>\n",
       "    </tr>\n",
       "    <tr>\n",
       "      <th>123</th>\n",
       "      <td>Maruti Baleno Alpha 1.3</td>\n",
       "      <td>2018</td>\n",
       "      <td>740000</td>\n",
       "      <td>38817</td>\n",
       "      <td>Diesel</td>\n",
       "      <td>Dealer</td>\n",
       "      <td>Manual</td>\n",
       "      <td>First Owner</td>\n",
       "      <td>27.39</td>\n",
       "      <td>1248.0</td>\n",
       "      <td>74.0</td>\n",
       "      <td>190Nm@ 2000rpm</td>\n",
       "      <td>5.0</td>\n",
       "    </tr>\n",
       "    <tr>\n",
       "      <th>...</th>\n",
       "      <td>...</td>\n",
       "      <td>...</td>\n",
       "      <td>...</td>\n",
       "      <td>...</td>\n",
       "      <td>...</td>\n",
       "      <td>...</td>\n",
       "      <td>...</td>\n",
       "      <td>...</td>\n",
       "      <td>...</td>\n",
       "      <td>...</td>\n",
       "      <td>...</td>\n",
       "      <td>...</td>\n",
       "      <td>...</td>\n",
       "    </tr>\n",
       "    <tr>\n",
       "      <th>5978</th>\n",
       "      <td>Maruti Swift AMT VVT VXI</td>\n",
       "      <td>2019</td>\n",
       "      <td>650000</td>\n",
       "      <td>5621</td>\n",
       "      <td>Petrol</td>\n",
       "      <td>Trustmark Dealer</td>\n",
       "      <td>Automatic</td>\n",
       "      <td>First Owner</td>\n",
       "      <td>22.00</td>\n",
       "      <td>1197.0</td>\n",
       "      <td>81.8</td>\n",
       "      <td>113Nm@ 4200rpm</td>\n",
       "      <td>5.0</td>\n",
       "    </tr>\n",
       "    <tr>\n",
       "      <th>5984</th>\n",
       "      <td>Honda Jazz VX</td>\n",
       "      <td>2016</td>\n",
       "      <td>550000</td>\n",
       "      <td>56494</td>\n",
       "      <td>Petrol</td>\n",
       "      <td>Trustmark Dealer</td>\n",
       "      <td>Manual</td>\n",
       "      <td>First Owner</td>\n",
       "      <td>18.20</td>\n",
       "      <td>1199.0</td>\n",
       "      <td>88.7</td>\n",
       "      <td>110Nm@ 4800rpm</td>\n",
       "      <td>5.0</td>\n",
       "    </tr>\n",
       "    <tr>\n",
       "      <th>5985</th>\n",
       "      <td>Maruti Swift AMT VVT VXI</td>\n",
       "      <td>2019</td>\n",
       "      <td>650000</td>\n",
       "      <td>5621</td>\n",
       "      <td>Petrol</td>\n",
       "      <td>Trustmark Dealer</td>\n",
       "      <td>Automatic</td>\n",
       "      <td>First Owner</td>\n",
       "      <td>22.00</td>\n",
       "      <td>1197.0</td>\n",
       "      <td>81.8</td>\n",
       "      <td>113Nm@ 4200rpm</td>\n",
       "      <td>5.0</td>\n",
       "    </tr>\n",
       "    <tr>\n",
       "      <th>5988</th>\n",
       "      <td>Tata Indigo eCS LX BSIV</td>\n",
       "      <td>2012</td>\n",
       "      <td>246000</td>\n",
       "      <td>35000</td>\n",
       "      <td>Diesel</td>\n",
       "      <td>Individual</td>\n",
       "      <td>Manual</td>\n",
       "      <td>Second Owner</td>\n",
       "      <td>23.03</td>\n",
       "      <td>1396.0</td>\n",
       "      <td>69.0</td>\n",
       "      <td>140Nm@ 1800-3000rpm</td>\n",
       "      <td>5.0</td>\n",
       "    </tr>\n",
       "    <tr>\n",
       "      <th>5992</th>\n",
       "      <td>Hyundai Verna Xi (Petrol)</td>\n",
       "      <td>2008</td>\n",
       "      <td>160000</td>\n",
       "      <td>100000</td>\n",
       "      <td>Petrol</td>\n",
       "      <td>Individual</td>\n",
       "      <td>Manual</td>\n",
       "      <td>Fourth &amp; Above Owner</td>\n",
       "      <td>13.90</td>\n",
       "      <td>1599.0</td>\n",
       "      <td>103.2</td>\n",
       "      <td>14.9@ 3,000(kgm@ rpm)</td>\n",
       "      <td>5.0</td>\n",
       "    </tr>\n",
       "  </tbody>\n",
       "</table>\n",
       "<p>756 rows × 13 columns</p>\n",
       "</div>"
      ],
      "text/plain": [
       "                                  name  year  selling_price  km_driven  \\\n",
       "70    BMW 6 Series GT 630d Luxury Line  2018        6000000      28156   \n",
       "90             Maruti Baleno Alpha 1.3  2018         740000      38817   \n",
       "98     Skoda Rapid 1.6 MPI AT Elegance  2016         645000      11000   \n",
       "111     Jaguar XF 2.0 Diesel Portfolio  2017        3200000      45000   \n",
       "123            Maruti Baleno Alpha 1.3  2018         740000      38817   \n",
       "...                                ...   ...            ...        ...   \n",
       "5978          Maruti Swift AMT VVT VXI  2019         650000       5621   \n",
       "5984                     Honda Jazz VX  2016         550000      56494   \n",
       "5985          Maruti Swift AMT VVT VXI  2019         650000       5621   \n",
       "5988           Tata Indigo eCS LX BSIV  2012         246000      35000   \n",
       "5992         Hyundai Verna Xi (Petrol)  2008         160000     100000   \n",
       "\n",
       "        fuel       seller_type transmission                 owner  mileage  \\\n",
       "70    Diesel            Dealer    Automatic           First Owner    17.09   \n",
       "90    Diesel            Dealer       Manual           First Owner    27.39   \n",
       "98    Petrol            Dealer    Automatic           First Owner    14.30   \n",
       "111   Diesel            Dealer    Automatic           First Owner    19.33   \n",
       "123   Diesel            Dealer       Manual           First Owner    27.39   \n",
       "...      ...               ...          ...                   ...      ...   \n",
       "5978  Petrol  Trustmark Dealer    Automatic           First Owner    22.00   \n",
       "5984  Petrol  Trustmark Dealer       Manual           First Owner    18.20   \n",
       "5985  Petrol  Trustmark Dealer    Automatic           First Owner    22.00   \n",
       "5988  Diesel        Individual       Manual          Second Owner    23.03   \n",
       "5992  Petrol        Individual       Manual  Fourth & Above Owner    13.90   \n",
       "\n",
       "      engine  max_power                 torque  seats  \n",
       "70    2993.0      261.4    620Nm@ 2000-2500rpm    4.0  \n",
       "90    1248.0       74.0         190Nm@ 2000rpm    5.0  \n",
       "98    1598.0      103.5         153Nm@ 3800rpm    5.0  \n",
       "111   1999.0      177.0    430Nm@ 1750-2500rpm    5.0  \n",
       "123   1248.0       74.0         190Nm@ 2000rpm    5.0  \n",
       "...      ...        ...                    ...    ...  \n",
       "5978  1197.0       81.8         113Nm@ 4200rpm    5.0  \n",
       "5984  1199.0       88.7         110Nm@ 4800rpm    5.0  \n",
       "5985  1197.0       81.8         113Nm@ 4200rpm    5.0  \n",
       "5988  1396.0       69.0    140Nm@ 1800-3000rpm    5.0  \n",
       "5992  1599.0      103.2  14.9@ 3,000(kgm@ rpm)    5.0  \n",
       "\n",
       "[756 rows x 13 columns]"
      ]
     },
     "execution_count": 81,
     "metadata": {},
     "output_type": "execute_result"
    }
   ],
   "source": [
    "train.loc[train.duplicated(), :]"
   ]
  },
  {
   "cell_type": "code",
   "execution_count": 82,
   "metadata": {},
   "outputs": [],
   "source": [
    "train=train.drop_duplicates()"
   ]
  },
  {
   "cell_type": "code",
   "execution_count": 83,
   "metadata": {},
   "outputs": [],
   "source": [
    "#print(train.shape)\n",
    "#zero_seat = train[train['seats'] == 0].index\n",
    "#train.drop(zero_seat, axis=0, inplace=True)\n",
    "#print(train.shape)"
   ]
  },
  {
   "cell_type": "markdown",
   "metadata": {},
   "source": [
    "# outlier\n"
   ]
  },
  {
   "cell_type": "code",
   "execution_count": 84,
   "metadata": {},
   "outputs": [
    {
     "data": {
      "image/png": "[encoded data removed]",
      "text/plain": [
       "<Figure size 720x432 with 1 Axes>"
      ]
     },
     "metadata": {},
     "output_type": "display_data"
    },
    {
     "data": {
      "image/png": "[encoded data removed]",
      "text/plain": [
       "<Figure size 720x432 with 1 Axes>"
      ]
     },
     "metadata": {},
     "output_type": "display_data"
    },
    {
     "data": {
      "image/png": "[encoded data removed]",
      "text/plain": [
       "<Figure size 720x432 with 1 Axes>"
      ]
     },
     "metadata": {},
     "output_type": "display_data"
    },
    {
     "data": {
      "image/png": "[encoded data removed]",
      "text/plain": [
       "<Figure size 720x432 with 1 Axes>"
      ]
     },
     "metadata": {},
     "output_type": "display_data"
    },
    {
     "data": {
      "image/png": "[encoded data removed]",
      "text/plain": [
       "<Figure size 720x432 with 1 Axes>"
      ]
     },
     "metadata": {},
     "output_type": "display_data"
    }
   ],
   "source": [
    "features_ch=['km_driven','selling_price','max_power','mileage','engine']\n",
    "for i in features_ch:\n",
    "    fig, ax = plt.subplots()\n",
    "    fig.set_size_inches(10,6)\n",
    "    #plt.xlim(-10,10)\n",
    "    sns.boxplot(x=i,data=train,ax=ax)"
   ]
  },
  {
   "cell_type": "code",
   "execution_count": 85,
   "metadata": {},
   "outputs": [
    {
     "name": "stdout",
     "output_type": "stream",
     "text": [
      "Lower end outer fence:  -144000.0\n",
      "Upper end outer fence:  283000.0\n"
     ]
    }
   ],
   "source": [
    "def fences(df, variable_name):    \n",
    "    q1 = df[variable_name].quantile(0.25)\n",
    "    q3 = df[variable_name].quantile(0.75)\n",
    "    iqr = q3-q1\n",
    "    outer_fence = 3*iqr\n",
    "    outer_fence_le = q1-outer_fence\n",
    "    outer_fence_ue = q3+outer_fence\n",
    "    return outer_fence_le, outer_fence_ue\n",
    "\n",
    "outer_fence_le, outer_fence_ue = fences(train, 'km_driven')\n",
    "print('Lower end outer fence: ', outer_fence_le)\n",
    "\n",
    "print('Upper end outer fence: ', outer_fence_ue)"
   ]
  },
  {
   "cell_type": "code",
   "execution_count": 86,
   "metadata": {},
   "outputs": [
    {
     "name": "stdout",
     "output_type": "stream",
     "text": [
      "90% quantile:    120000.0\n",
      "92.5% quantile:  140000.0\n",
      "95% quantile:    155000.0\n",
      "97.5% quantile:  190925.00000000017\n",
      "99% quantile:    243419.99999999825\n",
      "99.9% quantile:  414822.00000002375\n"
     ]
    }
   ],
   "source": [
    "print('90% quantile:   ', train['km_driven'].quantile(0.90))       \n",
    "print('92.5% quantile: ', train['km_driven'].quantile(0.925))      \n",
    "print('95% quantile:   ', train['km_driven'].quantile(0.95))       \n",
    "print('97.5% quantile: ', train['km_driven'].quantile(0.975))      \n",
    "print('99% quantile:   ', train['km_driven'].quantile(0.99))       \n",
    "print('99.9% quantile: ', train['km_driven'].quantile(0.999))"
   ]
  },
  {
   "cell_type": "code",
   "execution_count": 87,
   "metadata": {},
   "outputs": [],
   "source": [
    "#train['km_driven'] = winsorize(train['km_driven'].values, limits = [0, 0.01]).data"
   ]
  },
  {
   "cell_type": "code",
   "execution_count": 88,
   "metadata": {},
   "outputs": [],
   "source": [
    "out_row = np.where(train['km_driven']>600000)\n",
    "\n",
    "for i in out_row:\n",
    "    train.drop(i,inplace = True)"
   ]
  },
  {
   "cell_type": "markdown",
   "metadata": {},
   "source": [
    "km_driven_mean=train.km_driven.mean()\n",
    "train['km_driven']=[i if i<(1200000) else float(int(km_driven_mean)) for i in train.km_driven]"
   ]
  },
  {
   "cell_type": "code",
   "execution_count": 89,
   "metadata": {},
   "outputs": [],
   "source": [
    "#train['selling_price'] =winsorize(train['selling_price'].values, limits = [0, 0.01]).data"
   ]
  },
  {
   "cell_type": "code",
   "execution_count": 90,
   "metadata": {},
   "outputs": [],
   "source": [
    "#out_row = np.where(train['max_power']<=5)\n",
    "\n",
    "#for i in out_row:\n",
    "  #  train.drop(i,inplace = True)\n",
    "#max_power_mean=train.max_power.mean()\n",
    "#train['max_power']=[i if i<(400) else float(int(max_power_mean)) for i in train.max_power]"
   ]
  },
  {
   "cell_type": "code",
   "execution_count": 91,
   "metadata": {},
   "outputs": [],
   "source": [
    "#mileage_mean=train.mileage.mean()\n",
    "#train['mileage']=[i if i>5 else float(int(mileage_mean)) for i in train.mileage]"
   ]
  },
  {
   "cell_type": "code",
   "execution_count": 92,
   "metadata": {},
   "outputs": [
    {
     "data": {
      "text/plain": [
       "(5243, 13)"
      ]
     },
     "execution_count": 92,
     "metadata": {},
     "output_type": "execute_result"
    }
   ],
   "source": [
    "train.shape"
   ]
  },
  {
   "cell_type": "code",
   "execution_count": 93,
   "metadata": {
    "scrolled": true
   },
   "outputs": [
    {
     "data": {
      "image/png": "[encoded data removed]",
      "text/plain": [
       "<Figure size 864x432 with 1 Axes>"
      ]
     },
     "metadata": {},
     "output_type": "display_data"
    },
    {
     "data": {
      "image/png": "[encoded data removed]",
      "text/plain": [
       "<Figure size 864x432 with 1 Axes>"
      ]
     },
     "metadata": {},
     "output_type": "display_data"
    },
    {
     "data": {
      "image/png": "[encoded data removed]",
      "text/plain": [
       "<Figure size 864x432 with 1 Axes>"
      ]
     },
     "metadata": {},
     "output_type": "display_data"
    },
    {
     "data": {
      "image/png": "[encoded data removed]",
      "text/plain": [
       "<Figure size 864x432 with 1 Axes>"
      ]
     },
     "metadata": {},
     "output_type": "display_data"
    },
    {
     "data": {
      "image/png": "[encoded data removed]",
      "text/plain": [
       "<Figure size 864x432 with 1 Axes>"
      ]
     },
     "metadata": {},
     "output_type": "display_data"
    }
   ],
   "source": [
    "for i in features_ch:\n",
    "    fig, ax = plt.subplots()\n",
    "    fig.set_size_inches(12,6)\n",
    "    #plt.xlim(-10,10)\n",
    "    sns.boxplot(x=i,data=train,ax=ax)"
   ]
  },
  {
   "cell_type": "markdown",
   "metadata": {},
   "source": [
    "# encoding\n"
   ]
  },
  {
   "cell_type": "code",
   "execution_count": 115,
   "metadata": {},
   "outputs": [],
   "source": [
    "train1=train.copy()"
   ]
  },
  {
   "cell_type": "code",
   "execution_count": 116,
   "metadata": {
    "scrolled": true
   },
   "outputs": [
    {
     "data": {
      "text/html": [
       "<div>\n",
       "<style scoped>\n",
       "    .dataframe tbody tr th:only-of-type {\n",
       "        vertical-align: middle;\n",
       "    }\n",
       "\n",
       "    .dataframe tbody tr th {\n",
       "        vertical-align: top;\n",
       "    }\n",
       "\n",
       "    .dataframe thead th {\n",
       "        text-align: right;\n",
       "    }\n",
       "</style>\n",
       "<table border=\"1\" class=\"dataframe\">\n",
       "  <thead>\n",
       "    <tr style=\"text-align: right;\">\n",
       "      <th></th>\n",
       "      <th>name</th>\n",
       "      <th>year</th>\n",
       "      <th>selling_price</th>\n",
       "      <th>km_driven</th>\n",
       "      <th>fuel</th>\n",
       "      <th>seller_type</th>\n",
       "      <th>transmission</th>\n",
       "      <th>owner</th>\n",
       "      <th>mileage</th>\n",
       "      <th>engine</th>\n",
       "      <th>max_power</th>\n",
       "      <th>torque</th>\n",
       "      <th>seats</th>\n",
       "    </tr>\n",
       "  </thead>\n",
       "  <tbody>\n",
       "    <tr>\n",
       "      <th>0</th>\n",
       "      <td>Tata Nexon 1.5 Revotorq XM</td>\n",
       "      <td>2018</td>\n",
       "      <td>850000</td>\n",
       "      <td>9500</td>\n",
       "      <td>Diesel</td>\n",
       "      <td>Individual</td>\n",
       "      <td>Manual</td>\n",
       "      <td>First Owner</td>\n",
       "      <td>21.50</td>\n",
       "      <td>1497.0</td>\n",
       "      <td>108.50</td>\n",
       "      <td>260Nm@ 1500-2750rpm</td>\n",
       "      <td>5.0</td>\n",
       "    </tr>\n",
       "    <tr>\n",
       "      <th>1</th>\n",
       "      <td>Hyundai i20 Active SX Diesel</td>\n",
       "      <td>2018</td>\n",
       "      <td>750000</td>\n",
       "      <td>30000</td>\n",
       "      <td>Diesel</td>\n",
       "      <td>Individual</td>\n",
       "      <td>Manual</td>\n",
       "      <td>First Owner</td>\n",
       "      <td>21.19</td>\n",
       "      <td>1396.0</td>\n",
       "      <td>88.76</td>\n",
       "      <td>219.66nm@ 1500-2750rpm</td>\n",
       "      <td>5.0</td>\n",
       "    </tr>\n",
       "    <tr>\n",
       "      <th>2</th>\n",
       "      <td>Toyota Fortuner 4x2 AT</td>\n",
       "      <td>2015</td>\n",
       "      <td>1500000</td>\n",
       "      <td>80000</td>\n",
       "      <td>Diesel</td>\n",
       "      <td>Individual</td>\n",
       "      <td>Automatic</td>\n",
       "      <td>Second Owner</td>\n",
       "      <td>12.55</td>\n",
       "      <td>2982.0</td>\n",
       "      <td>168.50</td>\n",
       "      <td>360Nm@ 1400-3200rpm</td>\n",
       "      <td>7.0</td>\n",
       "    </tr>\n",
       "    <tr>\n",
       "      <th>3</th>\n",
       "      <td>Hyundai Verna 1.6 VTVT SX</td>\n",
       "      <td>2015</td>\n",
       "      <td>795000</td>\n",
       "      <td>35000</td>\n",
       "      <td>Petrol</td>\n",
       "      <td>Individual</td>\n",
       "      <td>Manual</td>\n",
       "      <td>First Owner</td>\n",
       "      <td>17.01</td>\n",
       "      <td>1591.0</td>\n",
       "      <td>121.30</td>\n",
       "      <td>154.9Nm@ 4200rpm</td>\n",
       "      <td>5.0</td>\n",
       "    </tr>\n",
       "    <tr>\n",
       "      <th>4</th>\n",
       "      <td>Volvo XC40 D4 Inscription BSIV</td>\n",
       "      <td>2019</td>\n",
       "      <td>3800000</td>\n",
       "      <td>20000</td>\n",
       "      <td>Diesel</td>\n",
       "      <td>Individual</td>\n",
       "      <td>Automatic</td>\n",
       "      <td>First Owner</td>\n",
       "      <td>18.00</td>\n",
       "      <td>1969.0</td>\n",
       "      <td>190.00</td>\n",
       "      <td>400Nm</td>\n",
       "      <td>5.0</td>\n",
       "    </tr>\n",
       "  </tbody>\n",
       "</table>\n",
       "</div>"
      ],
      "text/plain": [
       "                             name  year  selling_price  km_driven    fuel  \\\n",
       "0      Tata Nexon 1.5 Revotorq XM  2018         850000       9500  Diesel   \n",
       "1    Hyundai i20 Active SX Diesel  2018         750000      30000  Diesel   \n",
       "2          Toyota Fortuner 4x2 AT  2015        1500000      80000  Diesel   \n",
       "3       Hyundai Verna 1.6 VTVT SX  2015         795000      35000  Petrol   \n",
       "4  Volvo XC40 D4 Inscription BSIV  2019        3800000      20000  Diesel   \n",
       "\n",
       "  seller_type transmission         owner  mileage  engine  max_power  \\\n",
       "0  Individual       Manual   First Owner    21.50  1497.0     108.50   \n",
       "1  Individual       Manual   First Owner    21.19  1396.0      88.76   \n",
       "2  Individual    Automatic  Second Owner    12.55  2982.0     168.50   \n",
       "3  Individual       Manual   First Owner    17.01  1591.0     121.30   \n",
       "4  Individual    Automatic   First Owner    18.00  1969.0     190.00   \n",
       "\n",
       "                   torque  seats  \n",
       "0     260Nm@ 1500-2750rpm    5.0  \n",
       "1  219.66nm@ 1500-2750rpm    5.0  \n",
       "2     360Nm@ 1400-3200rpm    7.0  \n",
       "3        154.9Nm@ 4200rpm    5.0  \n",
       "4                   400Nm    5.0  "
      ]
     },
     "execution_count": 116,
     "metadata": {},
     "output_type": "execute_result"
    }
   ],
   "source": [
    "train1.head()"
   ]
  },
  {
   "cell_type": "code",
   "execution_count": 117,
   "metadata": {},
   "outputs": [
    {
     "data": {
      "text/plain": [
       "Diesel    2863\n",
       "Petrol    2309\n",
       "CNG         44\n",
       "LPG         27\n",
       "Name: fuel, dtype: int64"
      ]
     },
     "execution_count": 117,
     "metadata": {},
     "output_type": "execute_result"
    }
   ],
   "source": [
    "train1['fuel'].value_counts()"
   ]
  },
  {
   "cell_type": "code",
   "execution_count": 119,
   "metadata": {
    "scrolled": true
   },
   "outputs": [
    {
     "data": {
      "text/html": [
       "<div>\n",
       "<style scoped>\n",
       "    .dataframe tbody tr th:only-of-type {\n",
       "        vertical-align: middle;\n",
       "    }\n",
       "\n",
       "    .dataframe tbody tr th {\n",
       "        vertical-align: top;\n",
       "    }\n",
       "\n",
       "    .dataframe thead th {\n",
       "        text-align: right;\n",
       "    }\n",
       "</style>\n",
       "<table border=\"1\" class=\"dataframe\">\n",
       "  <thead>\n",
       "    <tr style=\"text-align: right;\">\n",
       "      <th></th>\n",
       "      <th>fuel_Diesel</th>\n",
       "      <th>fuel_LPG</th>\n",
       "      <th>fuel_Petrol</th>\n",
       "    </tr>\n",
       "  </thead>\n",
       "  <tbody>\n",
       "    <tr>\n",
       "      <th>0</th>\n",
       "      <td>1</td>\n",
       "      <td>0</td>\n",
       "      <td>0</td>\n",
       "    </tr>\n",
       "    <tr>\n",
       "      <th>1</th>\n",
       "      <td>1</td>\n",
       "      <td>0</td>\n",
       "      <td>0</td>\n",
       "    </tr>\n",
       "    <tr>\n",
       "      <th>2</th>\n",
       "      <td>1</td>\n",
       "      <td>0</td>\n",
       "      <td>0</td>\n",
       "    </tr>\n",
       "    <tr>\n",
       "      <th>3</th>\n",
       "      <td>0</td>\n",
       "      <td>0</td>\n",
       "      <td>1</td>\n",
       "    </tr>\n",
       "    <tr>\n",
       "      <th>4</th>\n",
       "      <td>1</td>\n",
       "      <td>0</td>\n",
       "      <td>0</td>\n",
       "    </tr>\n",
       "  </tbody>\n",
       "</table>\n",
       "</div>"
      ],
      "text/plain": [
       "   fuel_Diesel  fuel_LPG  fuel_Petrol\n",
       "0            1         0            0\n",
       "1            1         0            0\n",
       "2            1         0            0\n",
       "3            0         0            1\n",
       "4            1         0            0"
      ]
     },
     "execution_count": 119,
     "metadata": {},
     "output_type": "execute_result"
    }
   ],
   "source": [
    "Fuel_t = train1[['fuel']]\n",
    "Fuel_t = pd.get_dummies(Fuel_t,drop_first=True)\n",
    "Fuel_t.head()\n",
    "\n"
   ]
  },
  {
   "cell_type": "code",
   "execution_count": 120,
   "metadata": {},
   "outputs": [
    {
     "data": {
      "text/plain": [
       "Manual       4789\n",
       "Automatic     454\n",
       "Name: transmission, dtype: int64"
      ]
     },
     "execution_count": 120,
     "metadata": {},
     "output_type": "execute_result"
    }
   ],
   "source": [
    "var = 'transmission'\n",
    "train1[var].value_counts()"
   ]
  },
  {
   "cell_type": "code",
   "execution_count": 122,
   "metadata": {},
   "outputs": [
    {
     "data": {
      "text/html": [
       "<div>\n",
       "<style scoped>\n",
       "    .dataframe tbody tr th:only-of-type {\n",
       "        vertical-align: middle;\n",
       "    }\n",
       "\n",
       "    .dataframe tbody tr th {\n",
       "        vertical-align: top;\n",
       "    }\n",
       "\n",
       "    .dataframe thead th {\n",
       "        text-align: right;\n",
       "    }\n",
       "</style>\n",
       "<table border=\"1\" class=\"dataframe\">\n",
       "  <thead>\n",
       "    <tr style=\"text-align: right;\">\n",
       "      <th></th>\n",
       "      <th>transmission_Manual</th>\n",
       "    </tr>\n",
       "  </thead>\n",
       "  <tbody>\n",
       "    <tr>\n",
       "      <th>0</th>\n",
       "      <td>1</td>\n",
       "    </tr>\n",
       "    <tr>\n",
       "      <th>1</th>\n",
       "      <td>1</td>\n",
       "    </tr>\n",
       "    <tr>\n",
       "      <th>2</th>\n",
       "      <td>0</td>\n",
       "    </tr>\n",
       "    <tr>\n",
       "      <th>3</th>\n",
       "      <td>1</td>\n",
       "    </tr>\n",
       "    <tr>\n",
       "      <th>4</th>\n",
       "      <td>0</td>\n",
       "    </tr>\n",
       "  </tbody>\n",
       "</table>\n",
       "</div>"
      ],
      "text/plain": [
       "   transmission_Manual\n",
       "0                    1\n",
       "1                    1\n",
       "2                    0\n",
       "3                    1\n",
       "4                    0"
      ]
     },
     "execution_count": 122,
     "metadata": {},
     "output_type": "execute_result"
    }
   ],
   "source": [
    "Transmission = train1[[var]]\n",
    "Transmission = pd.get_dummies(Transmission,drop_first=True)\n",
    "Transmission.head()"
   ]
  },
  {
   "cell_type": "code",
   "execution_count": 126,
   "metadata": {},
   "outputs": [
    {
     "data": {
      "text/plain": [
       "First Owner             3242\n",
       "Second Owner            1476\n",
       "Third Owner              402\n",
       "Fourth & Above Owner     118\n",
       "Test Drive Car             5\n",
       "Name: owner, dtype: int64"
      ]
     },
     "execution_count": 126,
     "metadata": {},
     "output_type": "execute_result"
    }
   ],
   "source": [
    "var = 'owner'\n",
    "train1[var].value_counts()"
   ]
  },
  {
   "cell_type": "code",
   "execution_count": 127,
   "metadata": {},
   "outputs": [
    {
     "data": {
      "text/html": [
       "<div>\n",
       "<style scoped>\n",
       "    .dataframe tbody tr th:only-of-type {\n",
       "        vertical-align: middle;\n",
       "    }\n",
       "\n",
       "    .dataframe tbody tr th {\n",
       "        vertical-align: top;\n",
       "    }\n",
       "\n",
       "    .dataframe thead th {\n",
       "        text-align: right;\n",
       "    }\n",
       "</style>\n",
       "<table border=\"1\" class=\"dataframe\">\n",
       "  <thead>\n",
       "    <tr style=\"text-align: right;\">\n",
       "      <th></th>\n",
       "      <th>name</th>\n",
       "      <th>year</th>\n",
       "      <th>selling_price</th>\n",
       "      <th>km_driven</th>\n",
       "      <th>fuel</th>\n",
       "      <th>seller_type</th>\n",
       "      <th>transmission</th>\n",
       "      <th>owner</th>\n",
       "      <th>mileage</th>\n",
       "      <th>engine</th>\n",
       "      <th>max_power</th>\n",
       "      <th>torque</th>\n",
       "      <th>seats</th>\n",
       "    </tr>\n",
       "  </thead>\n",
       "  <tbody>\n",
       "    <tr>\n",
       "      <th>0</th>\n",
       "      <td>Tata Nexon 1.5 Revotorq XM</td>\n",
       "      <td>2018</td>\n",
       "      <td>850000</td>\n",
       "      <td>9500</td>\n",
       "      <td>Diesel</td>\n",
       "      <td>Individual</td>\n",
       "      <td>Manual</td>\n",
       "      <td>1</td>\n",
       "      <td>21.50</td>\n",
       "      <td>1497.0</td>\n",
       "      <td>108.50</td>\n",
       "      <td>260Nm@ 1500-2750rpm</td>\n",
       "      <td>5.0</td>\n",
       "    </tr>\n",
       "    <tr>\n",
       "      <th>1</th>\n",
       "      <td>Hyundai i20 Active SX Diesel</td>\n",
       "      <td>2018</td>\n",
       "      <td>750000</td>\n",
       "      <td>30000</td>\n",
       "      <td>Diesel</td>\n",
       "      <td>Individual</td>\n",
       "      <td>Manual</td>\n",
       "      <td>1</td>\n",
       "      <td>21.19</td>\n",
       "      <td>1396.0</td>\n",
       "      <td>88.76</td>\n",
       "      <td>219.66nm@ 1500-2750rpm</td>\n",
       "      <td>5.0</td>\n",
       "    </tr>\n",
       "    <tr>\n",
       "      <th>2</th>\n",
       "      <td>Toyota Fortuner 4x2 AT</td>\n",
       "      <td>2015</td>\n",
       "      <td>1500000</td>\n",
       "      <td>80000</td>\n",
       "      <td>Diesel</td>\n",
       "      <td>Individual</td>\n",
       "      <td>Automatic</td>\n",
       "      <td>2</td>\n",
       "      <td>12.55</td>\n",
       "      <td>2982.0</td>\n",
       "      <td>168.50</td>\n",
       "      <td>360Nm@ 1400-3200rpm</td>\n",
       "      <td>7.0</td>\n",
       "    </tr>\n",
       "    <tr>\n",
       "      <th>3</th>\n",
       "      <td>Hyundai Verna 1.6 VTVT SX</td>\n",
       "      <td>2015</td>\n",
       "      <td>795000</td>\n",
       "      <td>35000</td>\n",
       "      <td>Petrol</td>\n",
       "      <td>Individual</td>\n",
       "      <td>Manual</td>\n",
       "      <td>1</td>\n",
       "      <td>17.01</td>\n",
       "      <td>1591.0</td>\n",
       "      <td>121.30</td>\n",
       "      <td>154.9Nm@ 4200rpm</td>\n",
       "      <td>5.0</td>\n",
       "    </tr>\n",
       "    <tr>\n",
       "      <th>4</th>\n",
       "      <td>Volvo XC40 D4 Inscription BSIV</td>\n",
       "      <td>2019</td>\n",
       "      <td>3800000</td>\n",
       "      <td>20000</td>\n",
       "      <td>Diesel</td>\n",
       "      <td>Individual</td>\n",
       "      <td>Automatic</td>\n",
       "      <td>1</td>\n",
       "      <td>18.00</td>\n",
       "      <td>1969.0</td>\n",
       "      <td>190.00</td>\n",
       "      <td>400Nm</td>\n",
       "      <td>5.0</td>\n",
       "    </tr>\n",
       "  </tbody>\n",
       "</table>\n",
       "</div>"
      ],
      "text/plain": [
       "                             name  year  selling_price  km_driven    fuel  \\\n",
       "0      Tata Nexon 1.5 Revotorq XM  2018         850000       9500  Diesel   \n",
       "1    Hyundai i20 Active SX Diesel  2018         750000      30000  Diesel   \n",
       "2          Toyota Fortuner 4x2 AT  2015        1500000      80000  Diesel   \n",
       "3       Hyundai Verna 1.6 VTVT SX  2015         795000      35000  Petrol   \n",
       "4  Volvo XC40 D4 Inscription BSIV  2019        3800000      20000  Diesel   \n",
       "\n",
       "  seller_type transmission  owner  mileage  engine  max_power  \\\n",
       "0  Individual       Manual      1    21.50  1497.0     108.50   \n",
       "1  Individual       Manual      1    21.19  1396.0      88.76   \n",
       "2  Individual    Automatic      2    12.55  2982.0     168.50   \n",
       "3  Individual       Manual      1    17.01  1591.0     121.30   \n",
       "4  Individual    Automatic      1    18.00  1969.0     190.00   \n",
       "\n",
       "                   torque  seats  \n",
       "0     260Nm@ 1500-2750rpm    5.0  \n",
       "1  219.66nm@ 1500-2750rpm    5.0  \n",
       "2     360Nm@ 1400-3200rpm    7.0  \n",
       "3        154.9Nm@ 4200rpm    5.0  \n",
       "4                   400Nm    5.0  "
      ]
     },
     "execution_count": 127,
     "metadata": {},
     "output_type": "execute_result"
    }
   ],
   "source": [
    "train1.replace({\"First Owner\":1,\"Second Owner\":2,\n",
    "                \"Third Owner\": 3,\"Fourth & Above Owner\":4,\n",
    "               \"Test Drive Car\" :1},inplace=True)\n",
    "train1.head()"
   ]
  },
  {
   "cell_type": "code",
   "execution_count": 128,
   "metadata": {
    "scrolled": true
   },
   "outputs": [
    {
     "data": {
      "text/html": [
       "<div>\n",
       "<style scoped>\n",
       "    .dataframe tbody tr th:only-of-type {\n",
       "        vertical-align: middle;\n",
       "    }\n",
       "\n",
       "    .dataframe tbody tr th {\n",
       "        vertical-align: top;\n",
       "    }\n",
       "\n",
       "    .dataframe thead th {\n",
       "        text-align: right;\n",
       "    }\n",
       "</style>\n",
       "<table border=\"1\" class=\"dataframe\">\n",
       "  <thead>\n",
       "    <tr style=\"text-align: right;\">\n",
       "      <th></th>\n",
       "      <th>name</th>\n",
       "      <th>year</th>\n",
       "      <th>selling_price</th>\n",
       "      <th>km_driven</th>\n",
       "      <th>fuel</th>\n",
       "      <th>seller_type</th>\n",
       "      <th>transmission</th>\n",
       "      <th>owner</th>\n",
       "      <th>mileage</th>\n",
       "      <th>engine</th>\n",
       "      <th>max_power</th>\n",
       "      <th>torque</th>\n",
       "      <th>seats</th>\n",
       "    </tr>\n",
       "  </thead>\n",
       "  <tbody>\n",
       "    <tr>\n",
       "      <th>0</th>\n",
       "      <td>Tata Nexon 1.5 Revotorq XM</td>\n",
       "      <td>2018</td>\n",
       "      <td>850000</td>\n",
       "      <td>9500</td>\n",
       "      <td>Diesel</td>\n",
       "      <td>Individual</td>\n",
       "      <td>Manual</td>\n",
       "      <td>1</td>\n",
       "      <td>21.50</td>\n",
       "      <td>1497.0</td>\n",
       "      <td>108.50</td>\n",
       "      <td>260Nm@ 1500-2750rpm</td>\n",
       "      <td>5.0</td>\n",
       "    </tr>\n",
       "    <tr>\n",
       "      <th>1</th>\n",
       "      <td>Hyundai i20 Active SX Diesel</td>\n",
       "      <td>2018</td>\n",
       "      <td>750000</td>\n",
       "      <td>30000</td>\n",
       "      <td>Diesel</td>\n",
       "      <td>Individual</td>\n",
       "      <td>Manual</td>\n",
       "      <td>1</td>\n",
       "      <td>21.19</td>\n",
       "      <td>1396.0</td>\n",
       "      <td>88.76</td>\n",
       "      <td>219.66nm@ 1500-2750rpm</td>\n",
       "      <td>5.0</td>\n",
       "    </tr>\n",
       "  </tbody>\n",
       "</table>\n",
       "</div>"
      ],
      "text/plain": [
       "                           name  year  selling_price  km_driven    fuel  \\\n",
       "0    Tata Nexon 1.5 Revotorq XM  2018         850000       9500  Diesel   \n",
       "1  Hyundai i20 Active SX Diesel  2018         750000      30000  Diesel   \n",
       "\n",
       "  seller_type transmission  owner  mileage  engine  max_power  \\\n",
       "0  Individual       Manual      1    21.50  1497.0     108.50   \n",
       "1  Individual       Manual      1    21.19  1396.0      88.76   \n",
       "\n",
       "                   torque  seats  \n",
       "0     260Nm@ 1500-2750rpm    5.0  \n",
       "1  219.66nm@ 1500-2750rpm    5.0  "
      ]
     },
     "execution_count": 128,
     "metadata": {},
     "output_type": "execute_result"
    }
   ],
   "source": [
    "#current = 2021\n",
    "#train1['num_year'] = current - train1['year']\n",
    "train1.head(2)"
   ]
  },
  {
   "cell_type": "code",
   "execution_count": 129,
   "metadata": {},
   "outputs": [
    {
     "data": {
      "text/html": [
       "<div>\n",
       "<style scoped>\n",
       "    .dataframe tbody tr th:only-of-type {\n",
       "        vertical-align: middle;\n",
       "    }\n",
       "\n",
       "    .dataframe tbody tr th {\n",
       "        vertical-align: top;\n",
       "    }\n",
       "\n",
       "    .dataframe thead th {\n",
       "        text-align: right;\n",
       "    }\n",
       "</style>\n",
       "<table border=\"1\" class=\"dataframe\">\n",
       "  <thead>\n",
       "    <tr style=\"text-align: right;\">\n",
       "      <th></th>\n",
       "      <th>year</th>\n",
       "      <th>selling_price</th>\n",
       "      <th>km_driven</th>\n",
       "      <th>owner</th>\n",
       "      <th>engine</th>\n",
       "      <th>max_power</th>\n",
       "      <th>fuel_Diesel</th>\n",
       "      <th>fuel_LPG</th>\n",
       "      <th>fuel_Petrol</th>\n",
       "      <th>transmission_Manual</th>\n",
       "    </tr>\n",
       "  </thead>\n",
       "  <tbody>\n",
       "    <tr>\n",
       "      <th>0</th>\n",
       "      <td>2018</td>\n",
       "      <td>850000</td>\n",
       "      <td>9500</td>\n",
       "      <td>1</td>\n",
       "      <td>1497.0</td>\n",
       "      <td>108.50</td>\n",
       "      <td>1</td>\n",
       "      <td>0</td>\n",
       "      <td>0</td>\n",
       "      <td>1</td>\n",
       "    </tr>\n",
       "    <tr>\n",
       "      <th>1</th>\n",
       "      <td>2018</td>\n",
       "      <td>750000</td>\n",
       "      <td>30000</td>\n",
       "      <td>1</td>\n",
       "      <td>1396.0</td>\n",
       "      <td>88.76</td>\n",
       "      <td>1</td>\n",
       "      <td>0</td>\n",
       "      <td>0</td>\n",
       "      <td>1</td>\n",
       "    </tr>\n",
       "    <tr>\n",
       "      <th>2</th>\n",
       "      <td>2015</td>\n",
       "      <td>1500000</td>\n",
       "      <td>80000</td>\n",
       "      <td>2</td>\n",
       "      <td>2982.0</td>\n",
       "      <td>168.50</td>\n",
       "      <td>1</td>\n",
       "      <td>0</td>\n",
       "      <td>0</td>\n",
       "      <td>0</td>\n",
       "    </tr>\n",
       "    <tr>\n",
       "      <th>3</th>\n",
       "      <td>2015</td>\n",
       "      <td>795000</td>\n",
       "      <td>35000</td>\n",
       "      <td>1</td>\n",
       "      <td>1591.0</td>\n",
       "      <td>121.30</td>\n",
       "      <td>0</td>\n",
       "      <td>0</td>\n",
       "      <td>1</td>\n",
       "      <td>1</td>\n",
       "    </tr>\n",
       "    <tr>\n",
       "      <th>4</th>\n",
       "      <td>2019</td>\n",
       "      <td>3800000</td>\n",
       "      <td>20000</td>\n",
       "      <td>1</td>\n",
       "      <td>1969.0</td>\n",
       "      <td>190.00</td>\n",
       "      <td>1</td>\n",
       "      <td>0</td>\n",
       "      <td>0</td>\n",
       "      <td>0</td>\n",
       "    </tr>\n",
       "  </tbody>\n",
       "</table>\n",
       "</div>"
      ],
      "text/plain": [
       "   year  selling_price  km_driven  owner  engine  max_power  fuel_Diesel  \\\n",
       "0  2018         850000       9500      1  1497.0     108.50            1   \n",
       "1  2018         750000      30000      1  1396.0      88.76            1   \n",
       "2  2015        1500000      80000      2  2982.0     168.50            1   \n",
       "3  2015         795000      35000      1  1591.0     121.30            0   \n",
       "4  2019        3800000      20000      1  1969.0     190.00            1   \n",
       "\n",
       "   fuel_LPG  fuel_Petrol  transmission_Manual  \n",
       "0         0            0                    1  \n",
       "1         0            0                    1  \n",
       "2         0            0                    0  \n",
       "3         0            1                    1  \n",
       "4         0            0                    0  "
      ]
     },
     "execution_count": 129,
     "metadata": {},
     "output_type": "execute_result"
    }
   ],
   "source": [
    "train1.drop(['torque','name','mileage','seller_type','seats'],axis=1,inplace=True)\n",
    "final_train= pd.concat([train1,Fuel_t,Transmission],axis=1)\n",
    "final_train.drop([\"fuel\",\"transmission\"],axis=1, inplace=True)\n",
    "final_train.head()\n"
   ]
  },
  {
   "cell_type": "code",
   "execution_count": 130,
   "metadata": {},
   "outputs": [
    {
     "name": "stdout",
     "output_type": "stream",
     "text": [
      "<class 'pandas.core.frame.DataFrame'>\n",
      "Int64Index: 5243 entries, 0 to 5999\n",
      "Data columns (total 10 columns):\n",
      " #   Column               Non-Null Count  Dtype  \n",
      "---  ------               --------------  -----  \n",
      " 0   year                 5243 non-null   int64  \n",
      " 1   selling_price        5243 non-null   int64  \n",
      " 2   km_driven            5243 non-null   int64  \n",
      " 3   owner                5243 non-null   int64  \n",
      " 4   engine               5243 non-null   float64\n",
      " 5   max_power            5243 non-null   float64\n",
      " 6   fuel_Diesel          5243 non-null   uint8  \n",
      " 7   fuel_LPG             5243 non-null   uint8  \n",
      " 8   fuel_Petrol          5243 non-null   uint8  \n",
      " 9   transmission_Manual  5243 non-null   uint8  \n",
      "dtypes: float64(2), int64(4), uint8(4)\n",
      "memory usage: 307.2 KB\n"
     ]
    }
   ],
   "source": [
    "final_train.info()\n"
   ]
  },
  {
   "cell_type": "markdown",
   "metadata": {},
   "source": [
    "# Final Features Selection"
   ]
  },
  {
   "cell_type": "code",
   "execution_count": 131,
   "metadata": {
    "scrolled": false
   },
   "outputs": [
    {
     "data": {
      "text/plain": [
       "Index(['year', 'selling_price', 'km_driven', 'owner', 'engine', 'max_power',\n",
       "       'fuel_Diesel', 'fuel_LPG', 'fuel_Petrol', 'transmission_Manual'],\n",
       "      dtype='object')"
      ]
     },
     "execution_count": 131,
     "metadata": {},
     "output_type": "execute_result"
    }
   ],
   "source": [
    "final_train.columns"
   ]
  },
  {
   "cell_type": "code",
   "execution_count": 133,
   "metadata": {},
   "outputs": [
    {
     "data": {
      "text/plain": [
       "(5243, 9)"
      ]
     },
     "execution_count": 133,
     "metadata": {},
     "output_type": "execute_result"
    }
   ],
   "source": [
    "X = final_train.loc[:,['year', 'km_driven', 'owner', 'engine', 'max_power',\n",
    "       'fuel_Diesel', 'fuel_LPG', 'fuel_Petrol', 'transmission_Manual']]\n",
    "X.shape"
   ]
  },
  {
   "cell_type": "code",
   "execution_count": 134,
   "metadata": {},
   "outputs": [
    {
     "data": {
      "text/html": [
       "<div>\n",
       "<style scoped>\n",
       "    .dataframe tbody tr th:only-of-type {\n",
       "        vertical-align: middle;\n",
       "    }\n",
       "\n",
       "    .dataframe tbody tr th {\n",
       "        vertical-align: top;\n",
       "    }\n",
       "\n",
       "    .dataframe thead th {\n",
       "        text-align: right;\n",
       "    }\n",
       "</style>\n",
       "<table border=\"1\" class=\"dataframe\">\n",
       "  <thead>\n",
       "    <tr style=\"text-align: right;\">\n",
       "      <th></th>\n",
       "      <th>selling_price</th>\n",
       "    </tr>\n",
       "  </thead>\n",
       "  <tbody>\n",
       "    <tr>\n",
       "      <th>0</th>\n",
       "      <td>850000</td>\n",
       "    </tr>\n",
       "    <tr>\n",
       "      <th>1</th>\n",
       "      <td>750000</td>\n",
       "    </tr>\n",
       "    <tr>\n",
       "      <th>2</th>\n",
       "      <td>1500000</td>\n",
       "    </tr>\n",
       "    <tr>\n",
       "      <th>3</th>\n",
       "      <td>795000</td>\n",
       "    </tr>\n",
       "    <tr>\n",
       "      <th>4</th>\n",
       "      <td>3800000</td>\n",
       "    </tr>\n",
       "  </tbody>\n",
       "</table>\n",
       "</div>"
      ],
      "text/plain": [
       "   selling_price\n",
       "0         850000\n",
       "1         750000\n",
       "2        1500000\n",
       "3         795000\n",
       "4        3800000"
      ]
     },
     "execution_count": 134,
     "metadata": {},
     "output_type": "execute_result"
    }
   ],
   "source": [
    "Y= final_train.loc[:,['selling_price']]\n",
    "Y.head()"
   ]
  },
  {
   "cell_type": "code",
   "execution_count": 135,
   "metadata": {},
   "outputs": [],
   "source": [
    "from sklearn.model_selection import train_test_split\n",
    "X_train, X_test, Y_train, Y_test = train_test_split(X, Y, test_size = 0.2, random_state = 40)"
   ]
  },
  {
   "cell_type": "code",
   "execution_count": 136,
   "metadata": {},
   "outputs": [
    {
     "name": "stdout",
     "output_type": "stream",
     "text": [
      "Accuracy on Traning set:  0.9829907347094243\n",
      "Accuracy on Testing set:  0.8956795164369951\n"
     ]
    }
   ],
   "source": [
    "from sklearn.ensemble import RandomForestRegressor\n",
    "rf_reg = RandomForestRegressor()\n",
    "rf_reg.fit(X_train, Y_train)\n",
    "y_pred= rf_reg.predict(X_test)\n",
    "print(\"Accuracy on Traning set: \",rf_reg.score(X_train,Y_train))\n",
    "print(\"Accuracy on Testing set: \",rf_reg.score(X_test,Y_test))"
   ]
  },
  {
   "cell_type": "code",
   "execution_count": 137,
   "metadata": {},
   "outputs": [
    {
     "name": "stdout",
     "output_type": "stream",
     "text": [
      "Mean Absolute Error      :  87317.04172197772\n",
      "Mean Squared  Error      :  27347653443.03108\n",
      "Root Mean Squared  Error :  165371.25942264296\n",
      "R Squared Error          :  0.8956795164369951\n"
     ]
    }
   ],
   "source": [
    "from sklearn import metrics\n",
    "from sklearn.metrics import mean_squared_error, mean_absolute_error\n",
    "\n",
    "print('Mean Absolute Error      : ', metrics.mean_absolute_error(Y_test, y_pred))\n",
    "print('Mean Squared  Error      : ', metrics.mean_squared_error(Y_test, y_pred))\n",
    "print('Root Mean Squared  Error : ', np.sqrt(metrics.mean_squared_error(Y_test, y_pred)))\n",
    "print('R Squared Error          : ', metrics.r2_score(Y_test, y_pred))"
   ]
  },
  {
   "cell_type": "markdown",
   "metadata": {},
   "source": [
    "#  prepare test"
   ]
  },
  {
   "cell_type": "code",
   "execution_count": 138,
   "metadata": {},
   "outputs": [
    {
     "name": "stdout",
     "output_type": "stream",
     "text": [
      "<class 'pandas.core.frame.DataFrame'>\n",
      "RangeIndex: 2128 entries, 0 to 2127\n",
      "Data columns (total 13 columns):\n",
      " #   Column        Non-Null Count  Dtype  \n",
      "---  ------        --------------  -----  \n",
      " 0   Id            2128 non-null   int64  \n",
      " 1   name          2128 non-null   object \n",
      " 2   year          2128 non-null   int64  \n",
      " 3   km_driven     2128 non-null   int64  \n",
      " 4   fuel          2128 non-null   object \n",
      " 5   seller_type   2128 non-null   object \n",
      " 6   transmission  2128 non-null   object \n",
      " 7   owner         2128 non-null   object \n",
      " 8   mileage       2128 non-null   float64\n",
      " 9   engine        2128 non-null   float64\n",
      " 10  max_power     2128 non-null   float64\n",
      " 11  torque        2066 non-null   object \n",
      " 12  seats         2128 non-null   float64\n",
      "dtypes: float64(4), int64(3), object(6)\n",
      "memory usage: 216.2+ KB\n"
     ]
    }
   ],
   "source": [
    "test.info()"
   ]
  },
  {
   "cell_type": "code",
   "execution_count": 139,
   "metadata": {
    "scrolled": true
   },
   "outputs": [
    {
     "data": {
      "text/html": [
       "<div>\n",
       "<style scoped>\n",
       "    .dataframe tbody tr th:only-of-type {\n",
       "        vertical-align: middle;\n",
       "    }\n",
       "\n",
       "    .dataframe tbody tr th {\n",
       "        vertical-align: top;\n",
       "    }\n",
       "\n",
       "    .dataframe thead th {\n",
       "        text-align: right;\n",
       "    }\n",
       "</style>\n",
       "<table border=\"1\" class=\"dataframe\">\n",
       "  <thead>\n",
       "    <tr style=\"text-align: right;\">\n",
       "      <th></th>\n",
       "      <th>Id</th>\n",
       "      <th>name</th>\n",
       "      <th>year</th>\n",
       "      <th>km_driven</th>\n",
       "      <th>fuel</th>\n",
       "      <th>seller_type</th>\n",
       "      <th>transmission</th>\n",
       "      <th>owner</th>\n",
       "      <th>mileage</th>\n",
       "      <th>engine</th>\n",
       "      <th>max_power</th>\n",
       "      <th>torque</th>\n",
       "      <th>seats</th>\n",
       "    </tr>\n",
       "  </thead>\n",
       "  <tbody>\n",
       "    <tr>\n",
       "      <th>0</th>\n",
       "      <td>1</td>\n",
       "      <td>Skoda Rapid 1.6 MPI AT Elegance</td>\n",
       "      <td>2016</td>\n",
       "      <td>11000</td>\n",
       "      <td>Petrol</td>\n",
       "      <td>Dealer</td>\n",
       "      <td>Automatic</td>\n",
       "      <td>First Owner</td>\n",
       "      <td>14.30</td>\n",
       "      <td>1598.0</td>\n",
       "      <td>103.50</td>\n",
       "      <td>153Nm@ 3800rpm</td>\n",
       "      <td>5.0</td>\n",
       "    </tr>\n",
       "    <tr>\n",
       "      <th>1</th>\n",
       "      <td>2</td>\n",
       "      <td>Honda City i VTEC V</td>\n",
       "      <td>2017</td>\n",
       "      <td>35000</td>\n",
       "      <td>Petrol</td>\n",
       "      <td>Individual</td>\n",
       "      <td>Manual</td>\n",
       "      <td>First Owner</td>\n",
       "      <td>17.80</td>\n",
       "      <td>1497.0</td>\n",
       "      <td>117.30</td>\n",
       "      <td>145Nm@ 4600rpm</td>\n",
       "      <td>5.0</td>\n",
       "    </tr>\n",
       "    <tr>\n",
       "      <th>2</th>\n",
       "      <td>3</td>\n",
       "      <td>Hyundai Xcent 1.2 Kappa SX Option</td>\n",
       "      <td>2014</td>\n",
       "      <td>80000</td>\n",
       "      <td>Petrol</td>\n",
       "      <td>Individual</td>\n",
       "      <td>Manual</td>\n",
       "      <td>First Owner</td>\n",
       "      <td>19.10</td>\n",
       "      <td>1197.0</td>\n",
       "      <td>82.00</td>\n",
       "      <td>114Nm@ 4000rpm</td>\n",
       "      <td>5.0</td>\n",
       "    </tr>\n",
       "    <tr>\n",
       "      <th>3</th>\n",
       "      <td>4</td>\n",
       "      <td>Mahindra Scorpio 2009-2014 SLE 7S BSIII</td>\n",
       "      <td>2014</td>\n",
       "      <td>145241</td>\n",
       "      <td>Diesel</td>\n",
       "      <td>Individual</td>\n",
       "      <td>Manual</td>\n",
       "      <td>First Owner</td>\n",
       "      <td>12.05</td>\n",
       "      <td>2179.0</td>\n",
       "      <td>120.00</td>\n",
       "      <td>290Nm@ 1800-2800rpm</td>\n",
       "      <td>7.0</td>\n",
       "    </tr>\n",
       "    <tr>\n",
       "      <th>4</th>\n",
       "      <td>5</td>\n",
       "      <td>Ford Ecosport 1.5 Diesel Titanium</td>\n",
       "      <td>2015</td>\n",
       "      <td>92651</td>\n",
       "      <td>Diesel</td>\n",
       "      <td>Dealer</td>\n",
       "      <td>Manual</td>\n",
       "      <td>First Owner</td>\n",
       "      <td>21.70</td>\n",
       "      <td>1498.0</td>\n",
       "      <td>98.96</td>\n",
       "      <td>215Nm@ 1750-2500rpm</td>\n",
       "      <td>5.0</td>\n",
       "    </tr>\n",
       "    <tr>\n",
       "      <th>5</th>\n",
       "      <td>6</td>\n",
       "      <td>Maruti Omni 8 Seater BSII</td>\n",
       "      <td>2008</td>\n",
       "      <td>120000</td>\n",
       "      <td>Petrol</td>\n",
       "      <td>Individual</td>\n",
       "      <td>Manual</td>\n",
       "      <td>Second Owner</td>\n",
       "      <td>19.70</td>\n",
       "      <td>796.0</td>\n",
       "      <td>35.00</td>\n",
       "      <td>6.1kgm@ 3000rpm</td>\n",
       "      <td>8.0</td>\n",
       "    </tr>\n",
       "    <tr>\n",
       "      <th>6</th>\n",
       "      <td>7</td>\n",
       "      <td>Maruti Wagon R VXI Minor</td>\n",
       "      <td>2007</td>\n",
       "      <td>70000</td>\n",
       "      <td>Petrol</td>\n",
       "      <td>Individual</td>\n",
       "      <td>Manual</td>\n",
       "      <td>Third Owner</td>\n",
       "      <td>18.90</td>\n",
       "      <td>1061.0</td>\n",
       "      <td>67.00</td>\n",
       "      <td>84Nm@ 3500rpm</td>\n",
       "      <td>5.0</td>\n",
       "    </tr>\n",
       "    <tr>\n",
       "      <th>7</th>\n",
       "      <td>8</td>\n",
       "      <td>Hyundai Accent Executive</td>\n",
       "      <td>2011</td>\n",
       "      <td>70000</td>\n",
       "      <td>Petrol</td>\n",
       "      <td>Individual</td>\n",
       "      <td>Manual</td>\n",
       "      <td>First Owner</td>\n",
       "      <td>16.36</td>\n",
       "      <td>1495.0</td>\n",
       "      <td>93.70</td>\n",
       "      <td>124.6Nm@ 3500rpm</td>\n",
       "      <td>5.0</td>\n",
       "    </tr>\n",
       "    <tr>\n",
       "      <th>8</th>\n",
       "      <td>9</td>\n",
       "      <td>Chevrolet Sail 1.3 LS</td>\n",
       "      <td>2013</td>\n",
       "      <td>56000</td>\n",
       "      <td>Diesel</td>\n",
       "      <td>Dealer</td>\n",
       "      <td>Manual</td>\n",
       "      <td>First Owner</td>\n",
       "      <td>22.10</td>\n",
       "      <td>1248.0</td>\n",
       "      <td>74.00</td>\n",
       "      <td>190Nm@ 1750rpm</td>\n",
       "      <td>5.0</td>\n",
       "    </tr>\n",
       "    <tr>\n",
       "      <th>9</th>\n",
       "      <td>10</td>\n",
       "      <td>Hyundai Elite i20 Magna Plus BSIV</td>\n",
       "      <td>2019</td>\n",
       "      <td>3500</td>\n",
       "      <td>Petrol</td>\n",
       "      <td>Individual</td>\n",
       "      <td>Manual</td>\n",
       "      <td>First Owner</td>\n",
       "      <td>18.60</td>\n",
       "      <td>1197.0</td>\n",
       "      <td>81.86</td>\n",
       "      <td>117nm@ 4000rpm</td>\n",
       "      <td>5.0</td>\n",
       "    </tr>\n",
       "  </tbody>\n",
       "</table>\n",
       "</div>"
      ],
      "text/plain": [
       "   Id                                     name  year  km_driven    fuel  \\\n",
       "0   1          Skoda Rapid 1.6 MPI AT Elegance  2016      11000  Petrol   \n",
       "1   2                      Honda City i VTEC V  2017      35000  Petrol   \n",
       "2   3        Hyundai Xcent 1.2 Kappa SX Option  2014      80000  Petrol   \n",
       "3   4  Mahindra Scorpio 2009-2014 SLE 7S BSIII  2014     145241  Diesel   \n",
       "4   5        Ford Ecosport 1.5 Diesel Titanium  2015      92651  Diesel   \n",
       "5   6                Maruti Omni 8 Seater BSII  2008     120000  Petrol   \n",
       "6   7                 Maruti Wagon R VXI Minor  2007      70000  Petrol   \n",
       "7   8                 Hyundai Accent Executive  2011      70000  Petrol   \n",
       "8   9                    Chevrolet Sail 1.3 LS  2013      56000  Diesel   \n",
       "9  10        Hyundai Elite i20 Magna Plus BSIV  2019       3500  Petrol   \n",
       "\n",
       "  seller_type transmission         owner  mileage  engine  max_power  \\\n",
       "0      Dealer    Automatic   First Owner    14.30  1598.0     103.50   \n",
       "1  Individual       Manual   First Owner    17.80  1497.0     117.30   \n",
       "2  Individual       Manual   First Owner    19.10  1197.0      82.00   \n",
       "3  Individual       Manual   First Owner    12.05  2179.0     120.00   \n",
       "4      Dealer       Manual   First Owner    21.70  1498.0      98.96   \n",
       "5  Individual       Manual  Second Owner    19.70   796.0      35.00   \n",
       "6  Individual       Manual   Third Owner    18.90  1061.0      67.00   \n",
       "7  Individual       Manual   First Owner    16.36  1495.0      93.70   \n",
       "8      Dealer       Manual   First Owner    22.10  1248.0      74.00   \n",
       "9  Individual       Manual   First Owner    18.60  1197.0      81.86   \n",
       "\n",
       "                torque  seats  \n",
       "0       153Nm@ 3800rpm    5.0  \n",
       "1       145Nm@ 4600rpm    5.0  \n",
       "2       114Nm@ 4000rpm    5.0  \n",
       "3  290Nm@ 1800-2800rpm    7.0  \n",
       "4  215Nm@ 1750-2500rpm    5.0  \n",
       "5      6.1kgm@ 3000rpm    8.0  \n",
       "6        84Nm@ 3500rpm    5.0  \n",
       "7     124.6Nm@ 3500rpm    5.0  \n",
       "8       190Nm@ 1750rpm    5.0  \n",
       "9       117nm@ 4000rpm    5.0  "
      ]
     },
     "execution_count": 139,
     "metadata": {},
     "output_type": "execute_result"
    }
   ],
   "source": [
    "test.head(10)"
   ]
  },
  {
   "cell_type": "code",
   "execution_count": 140,
   "metadata": {},
   "outputs": [
    {
     "data": {
      "text/plain": [
       "Id               0\n",
       "name             0\n",
       "year             0\n",
       "km_driven        0\n",
       "fuel             0\n",
       "seller_type      0\n",
       "transmission     0\n",
       "owner            0\n",
       "mileage          0\n",
       "engine           0\n",
       "max_power        0\n",
       "torque          62\n",
       "seats            0\n",
       "dtype: int64"
      ]
     },
     "execution_count": 140,
     "metadata": {},
     "output_type": "execute_result"
    }
   ],
   "source": [
    "test.isnull().sum()"
   ]
  },
  {
   "cell_type": "code",
   "execution_count": 141,
   "metadata": {},
   "outputs": [
    {
     "data": {
      "text/html": [
       "<div>\n",
       "<style scoped>\n",
       "    .dataframe tbody tr th:only-of-type {\n",
       "        vertical-align: middle;\n",
       "    }\n",
       "\n",
       "    .dataframe tbody tr th {\n",
       "        vertical-align: top;\n",
       "    }\n",
       "\n",
       "    .dataframe thead th {\n",
       "        text-align: right;\n",
       "    }\n",
       "</style>\n",
       "<table border=\"1\" class=\"dataframe\">\n",
       "  <thead>\n",
       "    <tr style=\"text-align: right;\">\n",
       "      <th></th>\n",
       "      <th>fuel_Diesel</th>\n",
       "      <th>fuel_LPG</th>\n",
       "      <th>fuel_Petrol</th>\n",
       "    </tr>\n",
       "  </thead>\n",
       "  <tbody>\n",
       "    <tr>\n",
       "      <th>0</th>\n",
       "      <td>0</td>\n",
       "      <td>0</td>\n",
       "      <td>1</td>\n",
       "    </tr>\n",
       "    <tr>\n",
       "      <th>1</th>\n",
       "      <td>0</td>\n",
       "      <td>0</td>\n",
       "      <td>1</td>\n",
       "    </tr>\n",
       "    <tr>\n",
       "      <th>2</th>\n",
       "      <td>0</td>\n",
       "      <td>0</td>\n",
       "      <td>1</td>\n",
       "    </tr>\n",
       "    <tr>\n",
       "      <th>3</th>\n",
       "      <td>1</td>\n",
       "      <td>0</td>\n",
       "      <td>0</td>\n",
       "    </tr>\n",
       "    <tr>\n",
       "      <th>4</th>\n",
       "      <td>1</td>\n",
       "      <td>0</td>\n",
       "      <td>0</td>\n",
       "    </tr>\n",
       "  </tbody>\n",
       "</table>\n",
       "</div>"
      ],
      "text/plain": [
       "   fuel_Diesel  fuel_LPG  fuel_Petrol\n",
       "0            0         0            1\n",
       "1            0         0            1\n",
       "2            0         0            1\n",
       "3            1         0            0\n",
       "4            1         0            0"
      ]
     },
     "execution_count": 141,
     "metadata": {},
     "output_type": "execute_result"
    }
   ],
   "source": [
    "var = 'fuel'\n",
    "Fuel_t = test[[var]]\n",
    "Fuel_t = pd.get_dummies(Fuel_t,drop_first=True)\n",
    "Fuel_t.head()"
   ]
  },
  {
   "cell_type": "code",
   "execution_count": 142,
   "metadata": {},
   "outputs": [
    {
     "data": {
      "text/html": [
       "<div>\n",
       "<style scoped>\n",
       "    .dataframe tbody tr th:only-of-type {\n",
       "        vertical-align: middle;\n",
       "    }\n",
       "\n",
       "    .dataframe tbody tr th {\n",
       "        vertical-align: top;\n",
       "    }\n",
       "\n",
       "    .dataframe thead th {\n",
       "        text-align: right;\n",
       "    }\n",
       "</style>\n",
       "<table border=\"1\" class=\"dataframe\">\n",
       "  <thead>\n",
       "    <tr style=\"text-align: right;\">\n",
       "      <th></th>\n",
       "      <th>Manual</th>\n",
       "    </tr>\n",
       "  </thead>\n",
       "  <tbody>\n",
       "    <tr>\n",
       "      <th>0</th>\n",
       "      <td>0</td>\n",
       "    </tr>\n",
       "    <tr>\n",
       "      <th>1</th>\n",
       "      <td>1</td>\n",
       "    </tr>\n",
       "    <tr>\n",
       "      <th>2</th>\n",
       "      <td>1</td>\n",
       "    </tr>\n",
       "    <tr>\n",
       "      <th>3</th>\n",
       "      <td>1</td>\n",
       "    </tr>\n",
       "    <tr>\n",
       "      <th>4</th>\n",
       "      <td>1</td>\n",
       "    </tr>\n",
       "  </tbody>\n",
       "</table>\n",
       "</div>"
      ],
      "text/plain": [
       "   Manual\n",
       "0       0\n",
       "1       1\n",
       "2       1\n",
       "3       1\n",
       "4       1"
      ]
     },
     "execution_count": 142,
     "metadata": {},
     "output_type": "execute_result"
    }
   ],
   "source": [
    "\n",
    "var = 'transmission'\n",
    "Transmission = test[var]\n",
    "Transmission = pd.get_dummies(Transmission,drop_first=True)\n",
    "Transmission.head()"
   ]
  },
  {
   "cell_type": "code",
   "execution_count": 144,
   "metadata": {},
   "outputs": [
    {
     "data": {
      "text/html": [
       "<div>\n",
       "<style scoped>\n",
       "    .dataframe tbody tr th:only-of-type {\n",
       "        vertical-align: middle;\n",
       "    }\n",
       "\n",
       "    .dataframe tbody tr th {\n",
       "        vertical-align: top;\n",
       "    }\n",
       "\n",
       "    .dataframe thead th {\n",
       "        text-align: right;\n",
       "    }\n",
       "</style>\n",
       "<table border=\"1\" class=\"dataframe\">\n",
       "  <thead>\n",
       "    <tr style=\"text-align: right;\">\n",
       "      <th></th>\n",
       "      <th>Id</th>\n",
       "      <th>name</th>\n",
       "      <th>year</th>\n",
       "      <th>km_driven</th>\n",
       "      <th>fuel</th>\n",
       "      <th>seller_type</th>\n",
       "      <th>transmission</th>\n",
       "      <th>owner</th>\n",
       "      <th>mileage</th>\n",
       "      <th>engine</th>\n",
       "      <th>max_power</th>\n",
       "      <th>torque</th>\n",
       "      <th>seats</th>\n",
       "    </tr>\n",
       "  </thead>\n",
       "  <tbody>\n",
       "    <tr>\n",
       "      <th>0</th>\n",
       "      <td>1</td>\n",
       "      <td>Skoda Rapid 1.6 MPI AT Elegance</td>\n",
       "      <td>2016</td>\n",
       "      <td>11000</td>\n",
       "      <td>Petrol</td>\n",
       "      <td>Dealer</td>\n",
       "      <td>Automatic</td>\n",
       "      <td>1</td>\n",
       "      <td>14.30</td>\n",
       "      <td>1598.0</td>\n",
       "      <td>103.50</td>\n",
       "      <td>153Nm@ 3800rpm</td>\n",
       "      <td>5.0</td>\n",
       "    </tr>\n",
       "    <tr>\n",
       "      <th>1</th>\n",
       "      <td>2</td>\n",
       "      <td>Honda City i VTEC V</td>\n",
       "      <td>2017</td>\n",
       "      <td>35000</td>\n",
       "      <td>Petrol</td>\n",
       "      <td>Individual</td>\n",
       "      <td>Manual</td>\n",
       "      <td>1</td>\n",
       "      <td>17.80</td>\n",
       "      <td>1497.0</td>\n",
       "      <td>117.30</td>\n",
       "      <td>145Nm@ 4600rpm</td>\n",
       "      <td>5.0</td>\n",
       "    </tr>\n",
       "    <tr>\n",
       "      <th>2</th>\n",
       "      <td>3</td>\n",
       "      <td>Hyundai Xcent 1.2 Kappa SX Option</td>\n",
       "      <td>2014</td>\n",
       "      <td>80000</td>\n",
       "      <td>Petrol</td>\n",
       "      <td>Individual</td>\n",
       "      <td>Manual</td>\n",
       "      <td>1</td>\n",
       "      <td>19.10</td>\n",
       "      <td>1197.0</td>\n",
       "      <td>82.00</td>\n",
       "      <td>114Nm@ 4000rpm</td>\n",
       "      <td>5.0</td>\n",
       "    </tr>\n",
       "    <tr>\n",
       "      <th>3</th>\n",
       "      <td>4</td>\n",
       "      <td>Mahindra Scorpio 2009-2014 SLE 7S BSIII</td>\n",
       "      <td>2014</td>\n",
       "      <td>145241</td>\n",
       "      <td>Diesel</td>\n",
       "      <td>Individual</td>\n",
       "      <td>Manual</td>\n",
       "      <td>1</td>\n",
       "      <td>12.05</td>\n",
       "      <td>2179.0</td>\n",
       "      <td>120.00</td>\n",
       "      <td>290Nm@ 1800-2800rpm</td>\n",
       "      <td>7.0</td>\n",
       "    </tr>\n",
       "    <tr>\n",
       "      <th>4</th>\n",
       "      <td>5</td>\n",
       "      <td>Ford Ecosport 1.5 Diesel Titanium</td>\n",
       "      <td>2015</td>\n",
       "      <td>92651</td>\n",
       "      <td>Diesel</td>\n",
       "      <td>Dealer</td>\n",
       "      <td>Manual</td>\n",
       "      <td>1</td>\n",
       "      <td>21.70</td>\n",
       "      <td>1498.0</td>\n",
       "      <td>98.96</td>\n",
       "      <td>215Nm@ 1750-2500rpm</td>\n",
       "      <td>5.0</td>\n",
       "    </tr>\n",
       "  </tbody>\n",
       "</table>\n",
       "</div>"
      ],
      "text/plain": [
       "   Id                                     name  year  km_driven    fuel  \\\n",
       "0   1          Skoda Rapid 1.6 MPI AT Elegance  2016      11000  Petrol   \n",
       "1   2                      Honda City i VTEC V  2017      35000  Petrol   \n",
       "2   3        Hyundai Xcent 1.2 Kappa SX Option  2014      80000  Petrol   \n",
       "3   4  Mahindra Scorpio 2009-2014 SLE 7S BSIII  2014     145241  Diesel   \n",
       "4   5        Ford Ecosport 1.5 Diesel Titanium  2015      92651  Diesel   \n",
       "\n",
       "  seller_type transmission  owner  mileage  engine  max_power  \\\n",
       "0      Dealer    Automatic      1    14.30  1598.0     103.50   \n",
       "1  Individual       Manual      1    17.80  1497.0     117.30   \n",
       "2  Individual       Manual      1    19.10  1197.0      82.00   \n",
       "3  Individual       Manual      1    12.05  2179.0     120.00   \n",
       "4      Dealer       Manual      1    21.70  1498.0      98.96   \n",
       "\n",
       "                torque  seats  \n",
       "0       153Nm@ 3800rpm    5.0  \n",
       "1       145Nm@ 4600rpm    5.0  \n",
       "2       114Nm@ 4000rpm    5.0  \n",
       "3  290Nm@ 1800-2800rpm    7.0  \n",
       "4  215Nm@ 1750-2500rpm    5.0  "
      ]
     },
     "execution_count": 144,
     "metadata": {},
     "output_type": "execute_result"
    }
   ],
   "source": [
    "var = 'owner'\n",
    "test.replace({\"First Owner\":1,\"Second Owner\":2,\n",
    "                    \"Third Owner\": 3,\"Fourth & Above Owner\":4,\n",
    "                   \"Test Drive Car\":1},inplace=True)\n",
    "test.head()"
   ]
  },
  {
   "cell_type": "code",
   "execution_count": 145,
   "metadata": {},
   "outputs": [],
   "source": [
    "final_test=test.copy()\n",
    "final_test= pd.concat([test,Fuel_t,Transmission],axis=1)\n"
   ]
  },
  {
   "cell_type": "code",
   "execution_count": 146,
   "metadata": {},
   "outputs": [
    {
     "data": {
      "text/html": [
       "<div>\n",
       "<style scoped>\n",
       "    .dataframe tbody tr th:only-of-type {\n",
       "        vertical-align: middle;\n",
       "    }\n",
       "\n",
       "    .dataframe tbody tr th {\n",
       "        vertical-align: top;\n",
       "    }\n",
       "\n",
       "    .dataframe thead th {\n",
       "        text-align: right;\n",
       "    }\n",
       "</style>\n",
       "<table border=\"1\" class=\"dataframe\">\n",
       "  <thead>\n",
       "    <tr style=\"text-align: right;\">\n",
       "      <th></th>\n",
       "      <th>year</th>\n",
       "      <th>km_driven</th>\n",
       "      <th>owner</th>\n",
       "      <th>engine</th>\n",
       "      <th>max_power</th>\n",
       "      <th>fuel_Diesel</th>\n",
       "      <th>fuel_LPG</th>\n",
       "      <th>fuel_Petrol</th>\n",
       "      <th>Manual</th>\n",
       "    </tr>\n",
       "  </thead>\n",
       "  <tbody>\n",
       "    <tr>\n",
       "      <th>0</th>\n",
       "      <td>2016</td>\n",
       "      <td>11000</td>\n",
       "      <td>1</td>\n",
       "      <td>1598.0</td>\n",
       "      <td>103.50</td>\n",
       "      <td>0</td>\n",
       "      <td>0</td>\n",
       "      <td>1</td>\n",
       "      <td>0</td>\n",
       "    </tr>\n",
       "    <tr>\n",
       "      <th>1</th>\n",
       "      <td>2017</td>\n",
       "      <td>35000</td>\n",
       "      <td>1</td>\n",
       "      <td>1497.0</td>\n",
       "      <td>117.30</td>\n",
       "      <td>0</td>\n",
       "      <td>0</td>\n",
       "      <td>1</td>\n",
       "      <td>1</td>\n",
       "    </tr>\n",
       "    <tr>\n",
       "      <th>2</th>\n",
       "      <td>2014</td>\n",
       "      <td>80000</td>\n",
       "      <td>1</td>\n",
       "      <td>1197.0</td>\n",
       "      <td>82.00</td>\n",
       "      <td>0</td>\n",
       "      <td>0</td>\n",
       "      <td>1</td>\n",
       "      <td>1</td>\n",
       "    </tr>\n",
       "    <tr>\n",
       "      <th>3</th>\n",
       "      <td>2014</td>\n",
       "      <td>145241</td>\n",
       "      <td>1</td>\n",
       "      <td>2179.0</td>\n",
       "      <td>120.00</td>\n",
       "      <td>1</td>\n",
       "      <td>0</td>\n",
       "      <td>0</td>\n",
       "      <td>1</td>\n",
       "    </tr>\n",
       "    <tr>\n",
       "      <th>4</th>\n",
       "      <td>2015</td>\n",
       "      <td>92651</td>\n",
       "      <td>1</td>\n",
       "      <td>1498.0</td>\n",
       "      <td>98.96</td>\n",
       "      <td>1</td>\n",
       "      <td>0</td>\n",
       "      <td>0</td>\n",
       "      <td>1</td>\n",
       "    </tr>\n",
       "  </tbody>\n",
       "</table>\n",
       "</div>"
      ],
      "text/plain": [
       "   year  km_driven  owner  engine  max_power  fuel_Diesel  fuel_LPG  \\\n",
       "0  2016      11000      1  1598.0     103.50            0         0   \n",
       "1  2017      35000      1  1497.0     117.30            0         0   \n",
       "2  2014      80000      1  1197.0      82.00            0         0   \n",
       "3  2014     145241      1  2179.0     120.00            1         0   \n",
       "4  2015      92651      1  1498.0      98.96            1         0   \n",
       "\n",
       "   fuel_Petrol  Manual  \n",
       "0            1       0  \n",
       "1            1       1  \n",
       "2            1       1  \n",
       "3            0       1  \n",
       "4            0       1  "
      ]
     },
     "execution_count": 146,
     "metadata": {},
     "output_type": "execute_result"
    }
   ],
   "source": [
    "final_test.drop([\"Id\",\"mileage\",\"name\",\"fuel\",\"seller_type\",\"transmission\",\"torque\",\"seats\"],axis=1, inplace=True)\n",
    "final_test.head()"
   ]
  },
  {
   "cell_type": "code",
   "execution_count": 147,
   "metadata": {
    "scrolled": true
   },
   "outputs": [
    {
     "data": {
      "text/html": [
       "<div>\n",
       "<style scoped>\n",
       "    .dataframe tbody tr th:only-of-type {\n",
       "        vertical-align: middle;\n",
       "    }\n",
       "\n",
       "    .dataframe tbody tr th {\n",
       "        vertical-align: top;\n",
       "    }\n",
       "\n",
       "    .dataframe thead th {\n",
       "        text-align: right;\n",
       "    }\n",
       "</style>\n",
       "<table border=\"1\" class=\"dataframe\">\n",
       "  <thead>\n",
       "    <tr style=\"text-align: right;\">\n",
       "      <th></th>\n",
       "      <th>Id</th>\n",
       "      <th>Predicted</th>\n",
       "    </tr>\n",
       "  </thead>\n",
       "  <tbody>\n",
       "    <tr>\n",
       "      <th>0</th>\n",
       "      <td>1</td>\n",
       "      <td>648550.00</td>\n",
       "    </tr>\n",
       "    <tr>\n",
       "      <th>1</th>\n",
       "      <td>2</td>\n",
       "      <td>827480.00</td>\n",
       "    </tr>\n",
       "    <tr>\n",
       "      <th>2</th>\n",
       "      <td>3</td>\n",
       "      <td>387399.98</td>\n",
       "    </tr>\n",
       "    <tr>\n",
       "      <th>3</th>\n",
       "      <td>4</td>\n",
       "      <td>600950.00</td>\n",
       "    </tr>\n",
       "    <tr>\n",
       "      <th>4</th>\n",
       "      <td>5</td>\n",
       "      <td>521239.97</td>\n",
       "    </tr>\n",
       "  </tbody>\n",
       "</table>\n",
       "</div>"
      ],
      "text/plain": [
       "   Id  Predicted\n",
       "0   1  648550.00\n",
       "1   2  827480.00\n",
       "2   3  387399.98\n",
       "3   4  600950.00\n",
       "4   5  521239.97"
      ]
     },
     "execution_count": 147,
     "metadata": {},
     "output_type": "execute_result"
    }
   ],
   "source": [
    "predicted = rf_reg.predict(final_test)\n",
    "Sample = pd.DataFrame(data={'Id': test['Id'], 'Predicted': predicted})\n",
    "\n",
    "Sample.head()"
   ]
  },
  {
   "cell_type": "code",
   "execution_count": 148,
   "metadata": {},
   "outputs": [
    {
     "name": "stdout",
     "output_type": "stream",
     "text": [
      "Saved file: predict12.csv\n"
     ]
    }
   ],
   "source": [
    "filename = 'predict12.csv'\n",
    "\n",
    "Sample.to_csv(filename,index=False)\n",
    "\n",
    "print('Saved file: ' + filename)"
   ]
  },
  {
   "cell_type": "code",
   "execution_count": 149,
   "metadata": {},
   "outputs": [
    {
     "name": "stdout",
     "output_type": "stream",
     "text": [
      "      selling_price\n",
      "365          600000\n",
      "325          400000\n",
      "5994         725000\n",
      "430         3600000\n",
      "2340         330000\n",
      "1763         450000\n",
      "4547         550000\n",
      "5656         200000\n",
      "1306         155000\n",
      "4492         155000\n"
     ]
    }
   ],
   "source": [
    "print(Y_test[:10])"
   ]
  }
 ],
 "metadata": {
  "kernelspec": {
   "display_name": "Python 3",
   "language": "python",
   "name": "python3"
  },
  "language_info": {
   "codemirror_mode": {
    "name": "ipython",
    "version": 3
   },
   "file_extension": ".py",
   "mimetype": "text/x-python",
   "name": "python",
   "nbconvert_exporter": "python",
   "pygments_lexer": "ipython3",
   "version": "3.7.6"
  }
 },
 "nbformat": 4,
 "nbformat_minor": 4
}
